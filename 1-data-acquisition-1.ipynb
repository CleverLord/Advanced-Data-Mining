{
 "cells": [
  {
   "cell_type": "code",
   "execution_count": 1,
   "metadata": {},
   "outputs": [
    {
     "name": "stdout",
     "output_type": "stream",
     "text": [
      "Installing selenium...\n",
      "Resolving selenium...\n",
      "[    ] Installing...\n",
      "Installation Succeeded\n",
      "[    ] Installing selenium...\n",
      "[    ] Installing selenium...\n",
      "\n",
      "Installing pandas...\n",
      "Resolving pandas...\n",
      "[    ] Installing...\n",
      "Installation Succeeded\n",
      "[    ] Installing pandas...\n",
      "[    ] Installing pandas...\n",
      "\n",
      "Installing numpy...\n",
      "Resolving numpy...\n",
      "[    ] Installing...\n",
      "Installation Succeeded\n",
      "[    ] Installing numpy...\n",
      "[    ] Installing numpy...\n",
      "\n",
      "Installing matplotlib...\n",
      "Resolving matplotlib...\n",
      "[    ] Installing...\n",
      "Installation Succeeded\n",
      "[    ] Installing matplotlib...\n",
      "[    ] Installing matplotlib...\n",
      "\n",
      "Installing tqdm...\n",
      "Resolving tqdm...\n",
      "[    ] Installing...\n",
      "Installation Succeeded\n",
      "[    ] Installing tqdm...\n",
      "[    ] Installing tqdm...\n",
      "\n",
      "Installing dependencies from Pipfile.lock (395a0f)...\n"
     ]
    }
   ],
   "source": [
    "!pipenv install selenium pandas numpy matplotlib tqdm"
   ]
  },
  {
   "cell_type": "code",
   "execution_count": 2,
   "metadata": {},
   "outputs": [],
   "source": [
    "URL=\"https://apd.usos.agh.edu.pl/topics/browse/\""
   ]
  },
  {
   "cell_type": "code",
   "execution_count": 3,
   "metadata": {},
   "outputs": [],
   "source": [
    "#create new Edge webdriver\n",
    "from selenium import webdriver\n",
    "from selenium.webdriver.common.keys import Keys\n",
    "from selenium.webdriver.common.by import By\n",
    "from selenium.webdriver.common.action_chains import ActionChains\n",
    "from selenium.webdriver.common.desired_capabilities import DesiredCapabilities\n",
    "from selenium.webdriver.common.proxy import Proxy, ProxyType\n",
    "from selenium.webdriver.edge.options import Options\n",
    "from selenium.webdriver.support.ui import WebDriverWait\n",
    "from selenium.webdriver.support import expected_conditions as EC\n",
    "\n",
    "import pandas as pd\n",
    "import numpy as np\n",
    "import matplotlib.pyplot as plt\n",
    "from tqdm import tqdm\n",
    "import time\n",
    "import os"
   ]
  },
  {
   "cell_type": "code",
   "execution_count": 4,
   "metadata": {},
   "outputs": [],
   "source": [
    "driver = webdriver.Edge()\n",
    "driver.get(URL)"
   ]
  },
  {
   "cell_type": "code",
   "execution_count": 5,
   "metadata": {},
   "outputs": [],
   "source": [
    "# function to wait for login or exit if failed\n",
    "# wait for login = presence of element containing phrase or \"logout\" or \"wyloguj się\"\n",
    "#\"<a href=\"/auth/cas/logout/\"><span>wyloguj się</span></a>\"\n",
    "def login_wait(driver):\n",
    "    retries=5\n",
    "    print(\"Waiting for login...\")\n",
    "    while retries>0:\n",
    "        try:\n",
    "            WebDriverWait(driver, 5).until(EC.presence_of_element_located((By.XPATH, '//*[contains(text(), \"logout\")]')))\n",
    "            print(\"Logged in\")\n",
    "            break\n",
    "        except:\n",
    "            try:\n",
    "                WebDriverWait(driver, 1).until(EC.presence_of_element_located((By.XPATH, '//*[contains(text(), \"wyloguj się\")]')))\n",
    "                print(\"Logged in\")\n",
    "                break\n",
    "            except:\n",
    "                retries-=1\n",
    "                print(\"Retrying...\")\n",
    "\n",
    "    if retries==0:\n",
    "        print(\"Failed to log in\")\n",
    "        driver.quit()"
   ]
  },
  {
   "cell_type": "code",
   "execution_count": 6,
   "metadata": {},
   "outputs": [],
   "source": [
    "# function to change language\n",
    "'''\n",
    "<a id=\"langSwitch\" href=\"/pl/topics/browse/\" title=\"Wersja polska\" lang=\"pl\">\n",
    "  <span class=\"sr-only\">Wersja polska</span>\n",
    "  <img src=\"/static/usos/css/img/layout/lang-pl.svg\" alt=\"Wersja polska\">\n",
    "</a>\n",
    "'''\n",
    "def change_language():\n",
    "    try:\n",
    "        lang = driver.find_element(By.XPATH, '//*[@id=\"langSwitch\"]')\n",
    "        lang.click()\n",
    "    except:\n",
    "        print(\"Failed to change language\")\n",
    "def change_language_to_pl():\n",
    "    lang = driver.find_element(By.XPATH, '//*[@id=\"langSwitch\"]')\n",
    "    #get title attribute\n",
    "    title = lang.get_attribute(\"title\")\n",
    "    if title!=\"Wersja polska\":\n",
    "        print(\"Already in Polish\")\n",
    "    else:\n",
    "        lang.click()"
   ]
  },
  {
   "cell_type": "code",
   "execution_count": 7,
   "metadata": {},
   "outputs": [],
   "source": [
    "# function to get main table from page\n",
    "# find main table that is of type <table class=\"nav\">\n",
    "# table = driver.find_element_by_class_name(\"nav\")\n",
    "#'WebDriver' object has no attribute 'find_element_by_class_name'\n",
    "def get_main_table():\n",
    "    return driver.find_element(By.CLASS_NAME, \"nav\")"
   ]
  },
  {
   "cell_type": "code",
   "execution_count": 8,
   "metadata": {},
   "outputs": [],
   "source": [
    "#function to get all rows from table\n",
    "def get_data_rows(table):\n",
    "    tbody = table.find_element(By.TAG_NAME, \"tbody\")\n",
    "    return tbody.find_elements(By.TAG_NAME, \"tr\")\n",
    "# print(\"Found\", len(rows), \"rows\")"
   ]
  },
  {
   "cell_type": "code",
   "execution_count": 9,
   "metadata": {},
   "outputs": [],
   "source": [
    "# header html and function to get column names\n",
    "'''\n",
    "<thead>\n",
    "  <tr>\n",
    "    <th class=\"width-100\">\n",
    "      <div class=\"nav-header\">\n",
    "        <div>\n",
    "          <div>\n",
    "            Thesis title in original language\n",
    "          </div>\n",
    "          <a class=\"ord\" href=\"?page=1&amp;order=title\">\n",
    "            <img src=\"/static/usos/img/tab/ord-empty.png\" alt=\"Sort ascending by: Thesis title in original language\">\n",
    "          </a>\n",
    "          <a class=\"ord\" href=\"?page=1&amp;order=-title\">\n",
    "            <img src=\"/static/usos/img/tab/ord-empty.png\" alt=\"Sort descending by: Thesis title in original language\">\n",
    "          </a>\n",
    "        </div>\n",
    "        <div>\n",
    "          <div>\n",
    "            Organizational unit\n",
    "          </div>\n",
    "          <a class=\"ord\" href=\"?page=1&amp;order=department\">\n",
    "            <img src=\"/static/usos/img/tab/ord-empty.png\" alt=\"Sort ascending by: Organizational unit\">\n",
    "          </a>\n",
    "          <a class=\"ord\" href=\"?page=1&amp;order=-department\">\n",
    "            <img src=\"/static/usos/img/tab/ord-empty.png\" alt=\"Sort descending by: Organizational unit\">\n",
    "          </a>\n",
    "        </div>\n",
    "      </div>\n",
    "    </th>\n",
    "    <th class=\"width-0\">\n",
    "      <div class=\"nav-header\">\n",
    "        <div>\n",
    "          <div>\n",
    "            <img src=\"/static/usos/img/tooltip/info-white.svg\" class=\"usos-tooltip valign-middle\" title=\"An employee who provided the topic in APD on his own behalf or on behalf of a person who does not have such capabilities. May be, but does not have to be, a future thesis supervisor. Check the content of the field &quot;Expected thesis supervisor&quot;.\" aria-labelledby=\"sro-2\" alt=\"Tip\" tabindex=\"0\">\n",
    "            <span id=\"sro-2\" class=\"screen-reader-only\">An employee who provided the topic in APD on his own behalf or on behalf of a person who does not have such capabilities. May be, but does not have to be, a future thesis supervisor. Check the content of the field \"Expected thesis supervisor\".</span>\n",
    "          </div>\n",
    "          <div>\n",
    "            Person providing<br>the topic\n",
    "          </div>\n",
    "          <a class=\"ord\" href=\"?page=1&amp;order=supervisor\">\n",
    "            <img src=\"/static/usos/img/tab/ord-empty.png\" alt=\"Sort ascending by: Person providing<br/>the topic\">\n",
    "          </a>\n",
    "          <a class=\"ord\" href=\"?page=1&amp;order=-supervisor\">\n",
    "            <img src=\"/static/usos/img/tab/ord-empty.png\" alt=\"Sort descending by: Person providing<br/>the topic\">\n",
    "          </a>\n",
    "        </div>\n",
    "      </div>\n",
    "    </th>\n",
    "    <th class=\"width-0\">\n",
    "      <div class=\"nav-header\">\n",
    "        <div>\n",
    "          <div>\n",
    "            Study fields\n",
    "          </div>\n",
    "        </div>\n",
    "      </div>\n",
    "    </th>\n",
    "    <th class=\"width-0\">\n",
    "      <div class=\"nav-header\">\n",
    "        <div>\n",
    "          <div>\n",
    "            Thesis type\n",
    "          </div>\n",
    "        </div>\n",
    "      </div>\n",
    "    </th>\n",
    "    <th class=\"width-0\">\n",
    "      <div class=\"nav-header\">\n",
    "        <div>\n",
    "          <div>\n",
    "            <img src=\"/static/usos/img/tooltip/info-white.svg\" class=\"usos-tooltip valign-middle\" title=\"<ul class=&quot;no-bullets&quot; style=&quot;padding-left: 0;&quot;>                                                            <li>Available</li>                                                            <li>Partially available</li>                                                            <li>Under negotiation</li>                                                            <li>Taken</li>                                                     </ul>\" aria-labelledby=\"sro-3\" alt=\"Tip\" tabindex=\"0\">\n",
    "            <span id=\"sro-3\" class=\"screen-reader-only\">\n",
    "              <ul class=\"no-bullets\" style=\"padding-left: 0;\">\n",
    "                <li>Available</li>\n",
    "                <li>Partially available</li>\n",
    "                <li>Under negotiation</li>\n",
    "                <li>Taken</li>\n",
    "              </ul>\n",
    "            </span>\n",
    "          </div>\n",
    "          <div>\n",
    "            Topic<br>status\n",
    "          </div>\n",
    "          <a class=\"ord\" href=\"?page=1&amp;order=status\">\n",
    "            <img src=\"/static/usos/img/tab/ord-empty.png\" alt=\"Sort ascending by: Topic<br/>status\">\n",
    "          </a>\n",
    "          <a class=\"ord\" href=\"?page=1&amp;order=-status\">\n",
    "            <img src=\"/static/usos/img/tab/ord-empty.png\" alt=\"Sort descending by: Topic<br/>status\">\n",
    "          </a>\n",
    "        </div>\n",
    "      </div>\n",
    "    </th>\n",
    "    <th class=\"width-0\">\n",
    "      <div class=\"nav-header\">\n",
    "        <div>\n",
    "          <div>\n",
    "            Date<br>of update\n",
    "          </div>\n",
    "          <div class=\"ord\">\n",
    "            <div></div>\n",
    "          </div>\n",
    "          <a class=\"ord\" href=\"?page=1&amp;order=-update_date\">\n",
    "            <img src=\"/static/usos/img/tab/ord-empty.png\" alt=\"Sort descending by: Date<br/>of update\">\n",
    "          </a>\n",
    "        </div>\n",
    "      </div>\n",
    "    </th>\n",
    "  </tr>\n",
    "</thead>\n",
    "'''\n",
    "\n",
    "def get_columns_from_header_row(table):\n",
    "    #get header row\n",
    "    row = table.find_elements(By.TAG_NAME, \"thead\")[1].find_element(By.TAG_NAME, \"tr\")\n",
    "    # print(row.get_attribute(\"innerHTML\"))\n",
    "    columns=[]\n",
    "    #get title column name from header row\n",
    "    columns.append(row.find_elements(By.TAG_NAME, \"th\")[0].find_elements(By.TAG_NAME, \"div\")[2].text)\n",
    "    #get organizational unit column name from header row\n",
    "    columns.append(row.find_elements(By.TAG_NAME, \"th\")[0].find_elements(By.TAG_NAME, \"div\")[4].text)\n",
    "    #get person providing the topic column name from header row\n",
    "    columns.append(row.find_elements(By.TAG_NAME, \"th\")[1].find_elements(By.TAG_NAME, \"div\")[1].text)\n",
    "    #get study fields column name from header row\n",
    "    columns.append(row.find_elements(By.TAG_NAME, \"th\")[2].find_elements(By.TAG_NAME, \"div\")[0].text)\n",
    "    #get thesis type column name from header row\n",
    "    columns.append(row.find_elements(By.TAG_NAME, \"th\")[3].find_elements(By.TAG_NAME, \"div\")[0].text)\n",
    "    #get topic status column name from header row\n",
    "    columns.append(row.find_elements(By.TAG_NAME, \"th\")[4].find_elements(By.TAG_NAME, \"div\")[1].text)\n",
    "    #get date of update column name from header row\n",
    "    columns.append(row.find_elements(By.TAG_NAME, \"th\")[5].find_elements(By.TAG_NAME, \"div\")[0].text)\n",
    "    return [column.replace(\"\\n\", \" \") for column in columns]\n"
   ]
  },
  {
   "cell_type": "code",
   "execution_count": 10,
   "metadata": {},
   "outputs": [],
   "source": [
    "# sample html row and function to extract data from it\n",
    "'''\n",
    "<tr>\n",
    "  <td class=\"align-left width-100\">\n",
    "    <div>\n",
    "      <a href=\"/topics/show/15221/\">\n",
    "        <span lang=\"pl\" class=\"block\">Na Badanie wpływu nagrań binauralnych na aktywację kory ruchowej mózgu</span>\n",
    "      </a>\n",
    "    </div>\n",
    "    <div style=\"margin-top:10px\">\n",
    "      <a target=\"_blank\" style=\"color: black; font-size: smaller\" href=\"https://web.usos.agh.edu.pl/kontroler.php?_action=actionx:katalog2/jednostki/pokazJednostke(kod:130-000)&amp;lang=2\" fac_id=\"130-000\">\n",
    "        [130-000] Faculty of Mechanical Engineering and Robotics\n",
    "      </a>\n",
    "    </div>\n",
    "  </td>\n",
    "  <td class=\"align-left\">\n",
    "    <a href=\"/users/33443/\" user_id=\"33443\">\n",
    "      Dorota Młynarczyk\n",
    "    </a>\n",
    "  </td>\n",
    "  <td class=\"strong align-left width-0\">\n",
    "    Acoustic Engineering\n",
    "  </td>\n",
    "  <td class=\"strong align-left width-0\">\n",
    "    master\n",
    "  </td>\n",
    "  <td class=\"strong align-left width-0\">\n",
    "    <nobr>\n",
    "      Taken\n",
    "    </nobr>\n",
    "  </td>\n",
    "  <td class=\"strong align-left width-0\">\n",
    "    Oct. 7, 2024\n",
    "  </td>\n",
    "</tr>\n",
    "'''\n",
    "def get_data_from_row(row):\n",
    "    data = []\n",
    "    #get all td's from row\n",
    "    tds = row.find_elements(By.TAG_NAME, \"td\")\n",
    "    #get thesis title\n",
    "    data.append(tds[0].find_element(By.TAG_NAME, \"span\").text)\n",
    "    #get thesis url\n",
    "    data.append(tds[0].find_element(By.TAG_NAME, \"a\").get_attribute(\"href\"))\n",
    "    #get organizational unit\n",
    "    data.append(tds[0].find_elements(By.TAG_NAME, \"a\")[1].text)\n",
    "    #get person providing the topic\n",
    "    data.append(tds[1].find_element(By.TAG_NAME, \"a\").text)\n",
    "    #get study fields\n",
    "    data.append(tds[2].text)\n",
    "    #get thesis type\n",
    "    data.append(tds[3].text)\n",
    "    #get topic status\n",
    "    data.append(tds[4].text)\n",
    "    #get date of update\n",
    "    data.append(tds[5].text)\n",
    "    return data\n"
   ]
  },
  {
   "cell_type": "code",
   "execution_count": 11,
   "metadata": {},
   "outputs": [],
   "source": [
    "# header row and functions to get next page button end extract total number of rows\n",
    "'''\n",
    "<div class=\"nav-bar\">\n",
    "  <div aria-disabled=\"true\" role=\"button\" tabindex=\"0\" aria-label=\"Pierwsza strona\">\n",
    "    <svg class=\"disabled\">\n",
    "      <use xlink:href=\"/static/usos/img/tab/nav-all.svg#first_page\"></use>\n",
    "    </svg>\n",
    "  </div>\n",
    "  <div aria-disabled=\"true\" role=\"button\" tabindex=\"0\" aria-label=\"Poprzednia strona\">\n",
    "    <svg class=\"disabled\">\n",
    "      <use xlink:href=\"/static/usos/img/tab/nav-all.svg#chevron_left\"></use>\n",
    "    </svg>\n",
    "  </div>\n",
    "\n",
    "  <div>\n",
    "    Elementy <span class=\"red\" style=\"margin: 0 0.25rem;\">1..30</span>\n",
    "    z <span class=\"red\" style=\"margin: 0 0.25rem;\">5307</span>\n",
    "  </div>\n",
    "\n",
    "  <a href=\"?page=2&amp;order=update_date\" aria-label=\"Następna strona\">\n",
    "    <svg>\n",
    "      <title>Następna strona</title>\n",
    "      <use xlink:href=\"/static/usos/img/tab/nav-all.svg#chevron_right\"></use>\n",
    "    </svg>\n",
    "  </a>\n",
    "  <a href=\"?page=177&amp;order=update_date\" aria-label=\"Ostatnia strona\">\n",
    "    <svg>\n",
    "      <title>Ostatnia strona</title>\n",
    "      <use xlink:href=\"/static/usos/img/tab/nav-all.svg#last_page\"></use>\n",
    "    </svg>\n",
    "  </a>\n",
    "</div>'''\n",
    "def get_next_page_button(table):\n",
    "    #get div with class nav-bar\n",
    "    nav_bar = table.find_element(By.CLASS_NAME, \"nav-bar\")\n",
    "    # find_element that has aria-label attribute with value \"Następna strona\"\n",
    "    return nav_bar.find_element(By.XPATH, '//*[contains(@aria-label, \"Następna strona\")]')\n",
    "def get_total_rows(table):\n",
    "    #get div with class nav-bar\n",
    "    nav_bar = table.find_element(By.CLASS_NAME, \"nav-bar\")\n",
    "    #get span with class red that contains total number of rows\n",
    "    total_rows = nav_bar.find_elements(By.TAG_NAME, \"span\")[-1].text\n",
    "    return int(total_rows)\n",
    "def get_current_rows(table):\n",
    "    #get div with class nav-bar\n",
    "    nav_bar = table.find_element(By.CLASS_NAME, \"nav-bar\")\n",
    "    #get span with class red that contains total number of rows\n",
    "    return nav_bar.find_elements(By.TAG_NAME, \"span\")[-2].text"
   ]
  },
  {
   "cell_type": "code",
   "execution_count": 12,
   "metadata": {},
   "outputs": [
    {
     "name": "stdout",
     "output_type": "stream",
     "text": [
      "Waiting for login...\n",
      "Retrying...\n",
      "Retrying...\n",
      "Logged in\n"
     ]
    }
   ],
   "source": [
    "login_wait(driver)"
   ]
  },
  {
   "cell_type": "code",
   "execution_count": 13,
   "metadata": {},
   "outputs": [],
   "source": [
    "change_language_to_pl()"
   ]
  },
  {
   "cell_type": "code",
   "execution_count": 14,
   "metadata": {},
   "outputs": [
    {
     "data": {
      "text/plain": [
       "['Tytuł pracy w języku oryginału',\n",
       " 'Jednostka organizacyjna',\n",
       " 'Osoba zgłaszająca temat',\n",
       " 'Kierunki studiów',\n",
       " 'Typ pracy',\n",
       " 'Status tematu',\n",
       " 'Data aktualizacji']"
      ]
     },
     "execution_count": 14,
     "metadata": {},
     "output_type": "execute_result"
    }
   ],
   "source": [
    "get_columns_from_header_row(get_main_table())"
   ]
  },
  {
   "cell_type": "code",
   "execution_count": 15,
   "metadata": {},
   "outputs": [
    {
     "data": {
      "text/plain": [
       "['Rozwój funkcjonalności oraz modernizacja konstrukcji maszyny realizującej proces beznarzędziowego ciągnienia',\n",
       " 'https://apd.usos.agh.edu.pl/topics/show/15260/',\n",
       " '[110-000] Wydział Inżynierii Metali i Informatyki Przemysłowej',\n",
       " 'Piotr Kustra',\n",
       " 'Informatyka Techniczna',\n",
       " 'magisterska',\n",
       " 'Zarezerwowany',\n",
       " '9 października 2024']"
      ]
     },
     "execution_count": 15,
     "metadata": {},
     "output_type": "execute_result"
    }
   ],
   "source": [
    "get_data_from_row(get_data_rows(get_main_table())[0])"
   ]
  },
  {
   "cell_type": "code",
   "execution_count": 16,
   "metadata": {},
   "outputs": [
    {
     "data": {
      "text/plain": [
       "5311"
      ]
     },
     "execution_count": 16,
     "metadata": {},
     "output_type": "execute_result"
    }
   ],
   "source": [
    "get_total_rows(get_main_table())"
   ]
  },
  {
   "cell_type": "code",
   "execution_count": 17,
   "metadata": {},
   "outputs": [],
   "source": [
    "get_next_page_button(get_main_table()).click()"
   ]
  },
  {
   "cell_type": "code",
   "execution_count": 18,
   "metadata": {},
   "outputs": [
    {
     "data": {
      "text/plain": [
       "'31..60'"
      ]
     },
     "execution_count": 18,
     "metadata": {},
     "output_type": "execute_result"
    }
   ],
   "source": [
    "get_current_rows(get_main_table()) # we will use this to determine if the website is still loading"
   ]
  },
  {
   "cell_type": "markdown",
   "metadata": {},
   "source": [
    "## Do actual scrapping"
   ]
  },
  {
   "cell_type": "code",
   "execution_count": 21,
   "metadata": {},
   "outputs": [
    {
     "name": "stderr",
     "output_type": "stream",
     "text": [
      "  0%|                                                                                                                                                                                           | 0/178 [00:00<?, ?it/s]"
     ]
    },
    {
     "name": "stdout",
     "output_type": "stream",
     "text": [
      "Getting data from page, range: 1..30\n"
     ]
    },
    {
     "name": "stderr",
     "output_type": "stream",
     "text": [
      "  1%|█                                                                                                                                                                                  | 1/178 [00:03<09:18,  3.16s/it]"
     ]
    },
    {
     "name": "stdout",
     "output_type": "stream",
     "text": [
      "Getting data from page, range: 31..60\n"
     ]
    },
    {
     "name": "stderr",
     "output_type": "stream",
     "text": [
      "  1%|██                                                                                                                                                                                 | 2/178 [00:06<08:48,  3.00s/it]"
     ]
    },
    {
     "name": "stdout",
     "output_type": "stream",
     "text": [
      "Getting data from page, range: 61..90\n"
     ]
    },
    {
     "name": "stderr",
     "output_type": "stream",
     "text": [
      "  2%|███                                                                                                                                                                                | 3/178 [00:08<08:37,  2.96s/it]"
     ]
    },
    {
     "name": "stdout",
     "output_type": "stream",
     "text": [
      "Getting data from page, range: 91..120\n"
     ]
    },
    {
     "name": "stderr",
     "output_type": "stream",
     "text": [
      "  2%|████                                                                                                                                                                               | 4/178 [00:13<10:57,  3.78s/it]"
     ]
    },
    {
     "name": "stdout",
     "output_type": "stream",
     "text": [
      "Getting data from page, range: 121..150\n"
     ]
    },
    {
     "name": "stderr",
     "output_type": "stream",
     "text": [
      "  3%|█████                                                                                                                                                                              | 5/178 [00:18<12:06,  4.20s/it]"
     ]
    },
    {
     "name": "stdout",
     "output_type": "stream",
     "text": [
      "Getting data from page, range: 151..180\n"
     ]
    },
    {
     "name": "stderr",
     "output_type": "stream",
     "text": [
      "  3%|██████                                                                                                                                                                             | 6/178 [00:23<12:44,  4.44s/it]"
     ]
    },
    {
     "name": "stdout",
     "output_type": "stream",
     "text": [
      "Getting data from page, range: 181..210\n"
     ]
    },
    {
     "name": "stderr",
     "output_type": "stream",
     "text": [
      "  4%|███████                                                                                                                                                                            | 7/178 [00:28<13:07,  4.60s/it]"
     ]
    },
    {
     "name": "stdout",
     "output_type": "stream",
     "text": [
      "Getting data from page, range: 211..240\n"
     ]
    },
    {
     "name": "stderr",
     "output_type": "stream",
     "text": [
      "  4%|████████                                                                                                                                                                           | 8/178 [00:34<13:38,  4.82s/it]"
     ]
    },
    {
     "name": "stdout",
     "output_type": "stream",
     "text": [
      "Getting data from page, range: 241..270\n"
     ]
    },
    {
     "name": "stderr",
     "output_type": "stream",
     "text": [
      "  5%|█████████                                                                                                                                                                          | 9/178 [00:39<13:46,  4.89s/it]"
     ]
    },
    {
     "name": "stdout",
     "output_type": "stream",
     "text": [
      "Getting data from page, range: 271..300\n"
     ]
    },
    {
     "name": "stderr",
     "output_type": "stream",
     "text": [
      "  6%|██████████                                                                                                                                                                        | 10/178 [00:44<14:14,  5.08s/it]"
     ]
    },
    {
     "name": "stdout",
     "output_type": "stream",
     "text": [
      "Getting data from page, range: 301..330\n"
     ]
    },
    {
     "name": "stderr",
     "output_type": "stream",
     "text": [
      "  6%|███████████                                                                                                                                                                       | 11/178 [00:50<14:26,  5.19s/it]"
     ]
    },
    {
     "name": "stdout",
     "output_type": "stream",
     "text": [
      "Getting data from page, range: 331..360\n"
     ]
    },
    {
     "name": "stderr",
     "output_type": "stream",
     "text": [
      "  7%|████████████                                                                                                                                                                      | 12/178 [00:55<14:12,  5.13s/it]"
     ]
    },
    {
     "name": "stdout",
     "output_type": "stream",
     "text": [
      "Getting data from page, range: 361..390\n"
     ]
    },
    {
     "name": "stderr",
     "output_type": "stream",
     "text": [
      "  7%|█████████████                                                                                                                                                                     | 13/178 [00:59<13:57,  5.07s/it]"
     ]
    },
    {
     "name": "stdout",
     "output_type": "stream",
     "text": [
      "Getting data from page, range: 391..420\n"
     ]
    },
    {
     "name": "stderr",
     "output_type": "stream",
     "text": [
      "  8%|██████████████                                                                                                                                                                    | 14/178 [01:05<13:53,  5.08s/it]"
     ]
    },
    {
     "name": "stdout",
     "output_type": "stream",
     "text": [
      "Getting data from page, range: 421..450\n"
     ]
    },
    {
     "name": "stderr",
     "output_type": "stream",
     "text": [
      "  8%|███████████████                                                                                                                                                                   | 15/178 [01:10<13:55,  5.13s/it]"
     ]
    },
    {
     "name": "stdout",
     "output_type": "stream",
     "text": [
      "Getting data from page, range: 451..480\n"
     ]
    },
    {
     "name": "stderr",
     "output_type": "stream",
     "text": [
      "  9%|████████████████                                                                                                                                                                  | 16/178 [01:15<13:56,  5.16s/it]"
     ]
    },
    {
     "name": "stdout",
     "output_type": "stream",
     "text": [
      "Getting data from page, range: 481..510\n"
     ]
    },
    {
     "name": "stderr",
     "output_type": "stream",
     "text": [
      " 10%|█████████████████                                                                                                                                                                 | 17/178 [01:20<13:34,  5.06s/it]"
     ]
    },
    {
     "name": "stdout",
     "output_type": "stream",
     "text": [
      "Getting data from page, range: 511..540\n"
     ]
    },
    {
     "name": "stderr",
     "output_type": "stream",
     "text": [
      " 10%|██████████████████                                                                                                                                                                | 18/178 [01:25<13:20,  5.00s/it]"
     ]
    },
    {
     "name": "stdout",
     "output_type": "stream",
     "text": [
      "Getting data from page, range: 541..570\n"
     ]
    },
    {
     "name": "stderr",
     "output_type": "stream",
     "text": [
      " 11%|███████████████████                                                                                                                                                               | 19/178 [01:30<13:10,  4.97s/it]"
     ]
    },
    {
     "name": "stdout",
     "output_type": "stream",
     "text": [
      "Getting data from page, range: 571..600\n"
     ]
    },
    {
     "name": "stderr",
     "output_type": "stream",
     "text": [
      " 11%|████████████████████                                                                                                                                                              | 20/178 [01:35<13:15,  5.03s/it]"
     ]
    },
    {
     "name": "stdout",
     "output_type": "stream",
     "text": [
      "Getting data from page, range: 601..630\n"
     ]
    },
    {
     "name": "stderr",
     "output_type": "stream",
     "text": [
      " 12%|█████████████████████                                                                                                                                                             | 21/178 [02:02<30:50, 11.79s/it]"
     ]
    },
    {
     "name": "stdout",
     "output_type": "stream",
     "text": [
      "Getting data from page, range: 631..660\n"
     ]
    },
    {
     "name": "stderr",
     "output_type": "stream",
     "text": [
      " 12%|██████████████████████                                                                                                                                                            | 22/178 [02:08<25:40,  9.87s/it]"
     ]
    },
    {
     "name": "stdout",
     "output_type": "stream",
     "text": [
      "Getting data from page, range: 661..690\n"
     ]
    },
    {
     "name": "stderr",
     "output_type": "stream",
     "text": [
      " 13%|███████████████████████                                                                                                                                                           | 23/178 [02:13<21:47,  8.44s/it]"
     ]
    },
    {
     "name": "stdout",
     "output_type": "stream",
     "text": [
      "Getting data from page, range: 691..720\n"
     ]
    },
    {
     "name": "stderr",
     "output_type": "stream",
     "text": [
      " 13%|████████████████████████                                                                                                                                                          | 24/178 [02:18<19:09,  7.47s/it]"
     ]
    },
    {
     "name": "stdout",
     "output_type": "stream",
     "text": [
      "Getting data from page, range: 721..750\n"
     ]
    },
    {
     "name": "stderr",
     "output_type": "stream",
     "text": [
      " 14%|█████████████████████████                                                                                                                                                         | 25/178 [02:23<17:14,  6.76s/it]"
     ]
    },
    {
     "name": "stdout",
     "output_type": "stream",
     "text": [
      "Getting data from page, range: 751..780\n"
     ]
    },
    {
     "name": "stderr",
     "output_type": "stream",
     "text": [
      " 15%|██████████████████████████                                                                                                                                                        | 26/178 [02:29<16:02,  6.33s/it]"
     ]
    },
    {
     "name": "stdout",
     "output_type": "stream",
     "text": [
      "Getting data from page, range: 781..810\n"
     ]
    },
    {
     "name": "stderr",
     "output_type": "stream",
     "text": [
      " 15%|███████████████████████████                                                                                                                                                       | 27/178 [02:34<15:08,  6.01s/it]"
     ]
    },
    {
     "name": "stdout",
     "output_type": "stream",
     "text": [
      "Getting data from page, range: 811..840\n"
     ]
    },
    {
     "name": "stderr",
     "output_type": "stream",
     "text": [
      " 16%|████████████████████████████                                                                                                                                                      | 28/178 [02:39<14:13,  5.69s/it]"
     ]
    },
    {
     "name": "stdout",
     "output_type": "stream",
     "text": [
      "Getting data from page, range: 841..870\n"
     ]
    },
    {
     "name": "stderr",
     "output_type": "stream",
     "text": [
      " 16%|█████████████████████████████                                                                                                                                                     | 29/178 [02:44<14:02,  5.66s/it]"
     ]
    },
    {
     "name": "stdout",
     "output_type": "stream",
     "text": [
      "Getting data from page, range: 871..900\n"
     ]
    },
    {
     "name": "stderr",
     "output_type": "stream",
     "text": [
      " 17%|██████████████████████████████                                                                                                                                                    | 30/178 [02:49<13:32,  5.49s/it]"
     ]
    },
    {
     "name": "stdout",
     "output_type": "stream",
     "text": [
      "Getting data from page, range: 901..930\n"
     ]
    },
    {
     "name": "stderr",
     "output_type": "stream",
     "text": [
      " 17%|███████████████████████████████                                                                                                                                                   | 31/178 [02:54<12:59,  5.31s/it]"
     ]
    },
    {
     "name": "stdout",
     "output_type": "stream",
     "text": [
      "Getting data from page, range: 931..960\n"
     ]
    },
    {
     "name": "stderr",
     "output_type": "stream",
     "text": [
      " 18%|████████████████████████████████                                                                                                                                                  | 32/178 [02:59<12:37,  5.19s/it]"
     ]
    },
    {
     "name": "stdout",
     "output_type": "stream",
     "text": [
      "Getting data from page, range: 961..990\n"
     ]
    },
    {
     "name": "stderr",
     "output_type": "stream",
     "text": [
      " 19%|█████████████████████████████████                                                                                                                                                 | 33/178 [03:04<12:24,  5.13s/it]"
     ]
    },
    {
     "name": "stdout",
     "output_type": "stream",
     "text": [
      "Getting data from page, range: 991..1020\n"
     ]
    },
    {
     "name": "stderr",
     "output_type": "stream",
     "text": [
      " 19%|██████████████████████████████████                                                                                                                                                | 34/178 [03:09<12:23,  5.16s/it]"
     ]
    },
    {
     "name": "stdout",
     "output_type": "stream",
     "text": [
      "Getting data from page, range: 1021..1050\n"
     ]
    },
    {
     "name": "stderr",
     "output_type": "stream",
     "text": [
      " 20%|███████████████████████████████████                                                                                                                                               | 35/178 [03:15<12:20,  5.18s/it]"
     ]
    },
    {
     "name": "stdout",
     "output_type": "stream",
     "text": [
      "Getting data from page, range: 1051..1080\n"
     ]
    },
    {
     "name": "stderr",
     "output_type": "stream",
     "text": [
      " 20%|████████████████████████████████████                                                                                                                                              | 36/178 [03:20<12:04,  5.10s/it]"
     ]
    },
    {
     "name": "stdout",
     "output_type": "stream",
     "text": [
      "Getting data from page, range: 1081..1110\n"
     ]
    },
    {
     "name": "stderr",
     "output_type": "stream",
     "text": [
      " 21%|█████████████████████████████████████                                                                                                                                             | 37/178 [03:24<11:48,  5.02s/it]"
     ]
    },
    {
     "name": "stdout",
     "output_type": "stream",
     "text": [
      "Getting data from page, range: 1111..1140\n"
     ]
    },
    {
     "name": "stderr",
     "output_type": "stream",
     "text": [
      " 21%|██████████████████████████████████████                                                                                                                                            | 38/178 [03:29<11:42,  5.02s/it]"
     ]
    },
    {
     "name": "stdout",
     "output_type": "stream",
     "text": [
      "Getting data from page, range: 1141..1170\n"
     ]
    },
    {
     "name": "stderr",
     "output_type": "stream",
     "text": [
      " 22%|███████████████████████████████████████                                                                                                                                           | 39/178 [03:34<11:32,  4.99s/it]"
     ]
    },
    {
     "name": "stdout",
     "output_type": "stream",
     "text": [
      "Getting data from page, range: 1171..1200\n"
     ]
    },
    {
     "name": "stderr",
     "output_type": "stream",
     "text": [
      " 22%|████████████████████████████████████████                                                                                                                                          | 40/178 [03:39<11:25,  4.97s/it]"
     ]
    },
    {
     "name": "stdout",
     "output_type": "stream",
     "text": [
      "Getting data from page, range: 1201..1230\n"
     ]
    },
    {
     "name": "stderr",
     "output_type": "stream",
     "text": [
      " 23%|█████████████████████████████████████████                                                                                                                                         | 41/178 [03:44<11:29,  5.03s/it]"
     ]
    },
    {
     "name": "stdout",
     "output_type": "stream",
     "text": [
      "Getting data from page, range: 1231..1260\n"
     ]
    },
    {
     "name": "stderr",
     "output_type": "stream",
     "text": [
      " 24%|██████████████████████████████████████████                                                                                                                                        | 42/178 [03:50<11:28,  5.07s/it]"
     ]
    },
    {
     "name": "stdout",
     "output_type": "stream",
     "text": [
      "Getting data from page, range: 1261..1290\n"
     ]
    },
    {
     "name": "stderr",
     "output_type": "stream",
     "text": [
      " 24%|███████████████████████████████████████████                                                                                                                                       | 43/178 [03:55<11:29,  5.11s/it]"
     ]
    },
    {
     "name": "stdout",
     "output_type": "stream",
     "text": [
      "Getting data from page, range: 1291..1320\n"
     ]
    },
    {
     "name": "stderr",
     "output_type": "stream",
     "text": [
      " 25%|████████████████████████████████████████████                                                                                                                                      | 44/178 [04:00<11:22,  5.09s/it]"
     ]
    },
    {
     "name": "stdout",
     "output_type": "stream",
     "text": [
      "Getting data from page, range: 1321..1350\n"
     ]
    },
    {
     "name": "stderr",
     "output_type": "stream",
     "text": [
      " 25%|█████████████████████████████████████████████                                                                                                                                     | 45/178 [04:05<11:26,  5.16s/it]"
     ]
    },
    {
     "name": "stdout",
     "output_type": "stream",
     "text": [
      "Getting data from page, range: 1351..1380\n"
     ]
    },
    {
     "name": "stderr",
     "output_type": "stream",
     "text": [
      " 26%|██████████████████████████████████████████████                                                                                                                                    | 46/178 [04:10<11:16,  5.12s/it]"
     ]
    },
    {
     "name": "stdout",
     "output_type": "stream",
     "text": [
      "Getting data from page, range: 1381..1410\n"
     ]
    },
    {
     "name": "stderr",
     "output_type": "stream",
     "text": [
      " 26%|██████████████████████████████████████████████▉                                                                                                                                   | 47/178 [04:15<11:10,  5.12s/it]"
     ]
    },
    {
     "name": "stdout",
     "output_type": "stream",
     "text": [
      "Getting data from page, range: 1411..1440\n"
     ]
    },
    {
     "name": "stderr",
     "output_type": "stream",
     "text": [
      " 27%|████████████████████████████████████████████████                                                                                                                                  | 48/178 [04:20<10:56,  5.05s/it]"
     ]
    },
    {
     "name": "stdout",
     "output_type": "stream",
     "text": [
      "Getting data from page, range: 1441..1470\n"
     ]
    },
    {
     "name": "stderr",
     "output_type": "stream",
     "text": [
      " 28%|█████████████████████████████████████████████████                                                                                                                                 | 49/178 [04:25<10:46,  5.01s/it]"
     ]
    },
    {
     "name": "stdout",
     "output_type": "stream",
     "text": [
      "Getting data from page, range: 1471..1500\n"
     ]
    },
    {
     "name": "stderr",
     "output_type": "stream",
     "text": [
      " 28%|██████████████████████████████████████████████████                                                                                                                                | 50/178 [04:30<10:45,  5.05s/it]"
     ]
    },
    {
     "name": "stdout",
     "output_type": "stream",
     "text": [
      "Getting data from page, range: 1501..1530\n"
     ]
    },
    {
     "name": "stderr",
     "output_type": "stream",
     "text": [
      " 29%|██████████████████████████████████████████████████▉                                                                                                                               | 51/178 [04:36<10:55,  5.16s/it]"
     ]
    },
    {
     "name": "stdout",
     "output_type": "stream",
     "text": [
      "Getting data from page, range: 1531..1560\n"
     ]
    },
    {
     "name": "stderr",
     "output_type": "stream",
     "text": [
      " 29%|████████████████████████████████████████████████████                                                                                                                              | 52/178 [04:41<10:51,  5.17s/it]"
     ]
    },
    {
     "name": "stdout",
     "output_type": "stream",
     "text": [
      "Getting data from page, range: 1561..1590\n"
     ]
    },
    {
     "name": "stderr",
     "output_type": "stream",
     "text": [
      " 30%|█████████████████████████████████████████████████████                                                                                                                             | 53/178 [04:59<19:08,  9.19s/it]"
     ]
    },
    {
     "name": "stdout",
     "output_type": "stream",
     "text": [
      "Getting data from page, range: 1591..1620\n"
     ]
    },
    {
     "name": "stderr",
     "output_type": "stream",
     "text": [
      " 30%|██████████████████████████████████████████████████████                                                                                                                            | 54/178 [05:06<17:23,  8.42s/it]"
     ]
    },
    {
     "name": "stdout",
     "output_type": "stream",
     "text": [
      "Getting data from page, range: 1621..1650\n"
     ]
    },
    {
     "name": "stderr",
     "output_type": "stream",
     "text": [
      " 31%|██████████████████████████████████████████████████████▉                                                                                                                           | 55/178 [05:12<15:43,  7.67s/it]"
     ]
    },
    {
     "name": "stdout",
     "output_type": "stream",
     "text": [
      "Getting data from page, range: 1651..1680\n"
     ]
    },
    {
     "name": "stderr",
     "output_type": "stream",
     "text": [
      " 31%|████████████████████████████████████████████████████████                                                                                                                          | 56/178 [05:18<14:22,  7.07s/it]"
     ]
    },
    {
     "name": "stdout",
     "output_type": "stream",
     "text": [
      "Getting data from page, range: 1681..1710\n"
     ]
    },
    {
     "name": "stderr",
     "output_type": "stream",
     "text": [
      " 32%|█████████████████████████████████████████████████████████                                                                                                                         | 57/178 [05:23<13:23,  6.64s/it]"
     ]
    },
    {
     "name": "stdout",
     "output_type": "stream",
     "text": [
      "Getting data from page, range: 1711..1740\n"
     ]
    },
    {
     "name": "stderr",
     "output_type": "stream",
     "text": [
      " 33%|██████████████████████████████████████████████████████████                                                                                                                        | 58/178 [05:30<13:17,  6.64s/it]"
     ]
    },
    {
     "name": "stdout",
     "output_type": "stream",
     "text": [
      "Getting data from page, range: 1741..1770\n"
     ]
    },
    {
     "name": "stderr",
     "output_type": "stream",
     "text": [
      " 33%|██████████████████████████████████████████████████████████▉                                                                                                                       | 59/178 [05:35<12:30,  6.31s/it]"
     ]
    },
    {
     "name": "stdout",
     "output_type": "stream",
     "text": [
      "Getting data from page, range: 1771..1800\n"
     ]
    },
    {
     "name": "stderr",
     "output_type": "stream",
     "text": [
      " 34%|████████████████████████████████████████████████████████████                                                                                                                      | 60/178 [05:41<11:54,  6.06s/it]"
     ]
    },
    {
     "name": "stdout",
     "output_type": "stream",
     "text": [
      "Getting data from page, range: 1801..1830\n"
     ]
    },
    {
     "name": "stderr",
     "output_type": "stream",
     "text": [
      " 34%|█████████████████████████████████████████████████████████████                                                                                                                     | 61/178 [05:55<16:37,  8.53s/it]"
     ]
    },
    {
     "name": "stdout",
     "output_type": "stream",
     "text": [
      "Getting data from page, range: 1831..1860\n"
     ]
    },
    {
     "name": "stderr",
     "output_type": "stream",
     "text": [
      " 35%|██████████████████████████████████████████████████████████████                                                                                                                    | 62/178 [06:00<14:28,  7.49s/it]"
     ]
    },
    {
     "name": "stdout",
     "output_type": "stream",
     "text": [
      "Getting data from page, range: 1861..1890\n"
     ]
    },
    {
     "name": "stderr",
     "output_type": "stream",
     "text": [
      " 35%|██████████████████████████████████████████████████████████████▉                                                                                                                   | 63/178 [06:06<13:02,  6.81s/it]"
     ]
    },
    {
     "name": "stdout",
     "output_type": "stream",
     "text": [
      "Getting data from page, range: 1891..1920\n"
     ]
    },
    {
     "name": "stderr",
     "output_type": "stream",
     "text": [
      " 36%|████████████████████████████████████████████████████████████████                                                                                                                  | 64/178 [06:11<12:00,  6.32s/it]"
     ]
    },
    {
     "name": "stdout",
     "output_type": "stream",
     "text": [
      "Getting data from page, range: 1921..1950\n"
     ]
    },
    {
     "name": "stderr",
     "output_type": "stream",
     "text": [
      " 37%|█████████████████████████████████████████████████████████████████                                                                                                                 | 65/178 [06:16<11:08,  5.92s/it]"
     ]
    },
    {
     "name": "stdout",
     "output_type": "stream",
     "text": [
      "Getting data from page, range: 1951..1980\n"
     ]
    },
    {
     "name": "stderr",
     "output_type": "stream",
     "text": [
      " 37%|██████████████████████████████████████████████████████████████████                                                                                                                | 66/178 [06:21<10:40,  5.72s/it]"
     ]
    },
    {
     "name": "stdout",
     "output_type": "stream",
     "text": [
      "Getting data from page, range: 1981..2010\n"
     ]
    },
    {
     "name": "stderr",
     "output_type": "stream",
     "text": [
      " 38%|███████████████████████████████████████████████████████████████████                                                                                                               | 67/178 [06:26<10:14,  5.53s/it]"
     ]
    },
    {
     "name": "stdout",
     "output_type": "stream",
     "text": [
      "Getting data from page, range: 2011..2040\n"
     ]
    },
    {
     "name": "stderr",
     "output_type": "stream",
     "text": [
      " 38%|████████████████████████████████████████████████████████████████████                                                                                                              | 68/178 [06:31<09:55,  5.41s/it]"
     ]
    },
    {
     "name": "stdout",
     "output_type": "stream",
     "text": [
      "Getting data from page, range: 2041..2070\n"
     ]
    },
    {
     "name": "stderr",
     "output_type": "stream",
     "text": [
      " 39%|█████████████████████████████████████████████████████████████████████                                                                                                             | 69/178 [06:36<09:40,  5.33s/it]"
     ]
    },
    {
     "name": "stdout",
     "output_type": "stream",
     "text": [
      "Getting data from page, range: 2071..2100\n"
     ]
    },
    {
     "name": "stderr",
     "output_type": "stream",
     "text": [
      " 39%|██████████████████████████████████████████████████████████████████████                                                                                                            | 70/178 [06:41<09:30,  5.28s/it]"
     ]
    },
    {
     "name": "stdout",
     "output_type": "stream",
     "text": [
      "Getting data from page, range: 2101..2130\n"
     ]
    },
    {
     "name": "stderr",
     "output_type": "stream",
     "text": [
      " 40%|███████████████████████████████████████████████████████████████████████                                                                                                           | 71/178 [06:47<09:42,  5.44s/it]"
     ]
    },
    {
     "name": "stdout",
     "output_type": "stream",
     "text": [
      "Getting data from page, range: 2131..2160\n"
     ]
    },
    {
     "name": "stderr",
     "output_type": "stream",
     "text": [
      " 40%|████████████████████████████████████████████████████████████████████████                                                                                                          | 72/178 [06:52<09:27,  5.36s/it]"
     ]
    },
    {
     "name": "stdout",
     "output_type": "stream",
     "text": [
      "Getting data from page, range: 2161..2190\n"
     ]
    },
    {
     "name": "stderr",
     "output_type": "stream",
     "text": [
      " 41%|█████████████████████████████████████████████████████████████████████████                                                                                                         | 73/178 [06:58<09:18,  5.32s/it]"
     ]
    },
    {
     "name": "stdout",
     "output_type": "stream",
     "text": [
      "Getting data from page, range: 2191..2220\n"
     ]
    },
    {
     "name": "stderr",
     "output_type": "stream",
     "text": [
      " 42%|██████████████████████████████████████████████████████████████████████████                                                                                                        | 74/178 [07:03<09:06,  5.26s/it]"
     ]
    },
    {
     "name": "stdout",
     "output_type": "stream",
     "text": [
      "Getting data from page, range: 2221..2250\n"
     ]
    },
    {
     "name": "stderr",
     "output_type": "stream",
     "text": [
      " 42%|███████████████████████████████████████████████████████████████████████████                                                                                                       | 75/178 [07:08<08:59,  5.23s/it]"
     ]
    },
    {
     "name": "stdout",
     "output_type": "stream",
     "text": [
      "Getting data from page, range: 2251..2280\n"
     ]
    },
    {
     "name": "stderr",
     "output_type": "stream",
     "text": [
      " 43%|████████████████████████████████████████████████████████████████████████████                                                                                                      | 76/178 [07:13<08:48,  5.19s/it]"
     ]
    },
    {
     "name": "stdout",
     "output_type": "stream",
     "text": [
      "Getting data from page, range: 2281..2310\n"
     ]
    },
    {
     "name": "stderr",
     "output_type": "stream",
     "text": [
      " 43%|█████████████████████████████████████████████████████████████████████████████                                                                                                     | 77/178 [07:19<08:55,  5.30s/it]"
     ]
    },
    {
     "name": "stdout",
     "output_type": "stream",
     "text": [
      "Getting data from page, range: 2311..2340\n"
     ]
    },
    {
     "name": "stderr",
     "output_type": "stream",
     "text": [
      " 44%|██████████████████████████████████████████████████████████████████████████████                                                                                                    | 78/178 [07:24<08:52,  5.33s/it]"
     ]
    },
    {
     "name": "stdout",
     "output_type": "stream",
     "text": [
      "Getting data from page, range: 2341..2370\n"
     ]
    },
    {
     "name": "stderr",
     "output_type": "stream",
     "text": [
      " 44%|███████████████████████████████████████████████████████████████████████████████                                                                                                   | 79/178 [07:29<08:40,  5.26s/it]"
     ]
    },
    {
     "name": "stdout",
     "output_type": "stream",
     "text": [
      "Getting data from page, range: 2371..2400\n"
     ]
    },
    {
     "name": "stderr",
     "output_type": "stream",
     "text": [
      " 45%|████████████████████████████████████████████████████████████████████████████████                                                                                                  | 80/178 [07:34<08:36,  5.27s/it]"
     ]
    },
    {
     "name": "stdout",
     "output_type": "stream",
     "text": [
      "Getting data from page, range: 2401..2430\n"
     ]
    },
    {
     "name": "stderr",
     "output_type": "stream",
     "text": [
      " 46%|█████████████████████████████████████████████████████████████████████████████████                                                                                                 | 81/178 [07:40<08:32,  5.28s/it]"
     ]
    },
    {
     "name": "stdout",
     "output_type": "stream",
     "text": [
      "Getting data from page, range: 2431..2460\n"
     ]
    },
    {
     "name": "stderr",
     "output_type": "stream",
     "text": [
      " 46%|██████████████████████████████████████████████████████████████████████████████████                                                                                                | 82/178 [07:45<08:13,  5.14s/it]"
     ]
    },
    {
     "name": "stdout",
     "output_type": "stream",
     "text": [
      "Getting data from page, range: 2461..2490\n"
     ]
    },
    {
     "name": "stderr",
     "output_type": "stream",
     "text": [
      " 47%|███████████████████████████████████████████████████████████████████████████████████                                                                                               | 83/178 [08:07<16:12, 10.24s/it]"
     ]
    },
    {
     "name": "stdout",
     "output_type": "stream",
     "text": [
      "Getting data from page, range: 2491..2520\n"
     ]
    },
    {
     "name": "stderr",
     "output_type": "stream",
     "text": [
      " 47%|████████████████████████████████████████████████████████████████████████████████████                                                                                              | 84/178 [08:13<14:14,  9.09s/it]"
     ]
    },
    {
     "name": "stdout",
     "output_type": "stream",
     "text": [
      "Getting data from page, range: 2521..2550\n"
     ]
    },
    {
     "name": "stderr",
     "output_type": "stream",
     "text": [
      " 48%|█████████████████████████████████████████████████████████████████████████████████████                                                                                             | 85/178 [08:19<12:30,  8.07s/it]"
     ]
    },
    {
     "name": "stdout",
     "output_type": "stream",
     "text": [
      "Getting data from page, range: 2551..2580\n"
     ]
    },
    {
     "name": "stderr",
     "output_type": "stream",
     "text": [
      " 48%|██████████████████████████████████████████████████████████████████████████████████████                                                                                            | 86/178 [08:24<11:02,  7.21s/it]"
     ]
    },
    {
     "name": "stdout",
     "output_type": "stream",
     "text": [
      "Getting data from page, range: 2581..2610\n"
     ]
    },
    {
     "name": "stderr",
     "output_type": "stream",
     "text": [
      " 49%|███████████████████████████████████████████████████████████████████████████████████████                                                                                           | 87/178 [08:29<09:57,  6.57s/it]"
     ]
    },
    {
     "name": "stdout",
     "output_type": "stream",
     "text": [
      "Getting data from page, range: 2611..2640\n"
     ]
    },
    {
     "name": "stderr",
     "output_type": "stream",
     "text": [
      " 49%|████████████████████████████████████████████████████████████████████████████████████████                                                                                          | 88/178 [08:34<09:11,  6.13s/it]"
     ]
    },
    {
     "name": "stdout",
     "output_type": "stream",
     "text": [
      "Getting data from page, range: 2641..2670\n"
     ]
    },
    {
     "name": "stderr",
     "output_type": "stream",
     "text": [
      " 50%|█████████████████████████████████████████████████████████████████████████████████████████                                                                                         | 89/178 [08:39<08:37,  5.82s/it]"
     ]
    },
    {
     "name": "stdout",
     "output_type": "stream",
     "text": [
      "Getting data from page, range: 2671..2700\n"
     ]
    },
    {
     "name": "stderr",
     "output_type": "stream",
     "text": [
      " 51%|██████████████████████████████████████████████████████████████████████████████████████████                                                                                        | 90/178 [08:44<08:13,  5.60s/it]"
     ]
    },
    {
     "name": "stdout",
     "output_type": "stream",
     "text": [
      "Getting data from page, range: 2701..2730\n"
     ]
    },
    {
     "name": "stderr",
     "output_type": "stream",
     "text": [
      " 51%|███████████████████████████████████████████████████████████████████████████████████████████                                                                                       | 91/178 [08:56<10:39,  7.35s/it]"
     ]
    },
    {
     "name": "stdout",
     "output_type": "stream",
     "text": [
      "Getting data from page, range: 2731..2760\n"
     ]
    },
    {
     "name": "stderr",
     "output_type": "stream",
     "text": [
      " 52%|████████████████████████████████████████████████████████████████████████████████████████████                                                                                      | 92/178 [09:01<09:45,  6.80s/it]"
     ]
    },
    {
     "name": "stdout",
     "output_type": "stream",
     "text": [
      "Getting data from page, range: 2761..2790\n"
     ]
    },
    {
     "name": "stderr",
     "output_type": "stream",
     "text": [
      " 52%|█████████████████████████████████████████████████████████████████████████████████████████████                                                                                     | 93/178 [09:06<08:57,  6.32s/it]"
     ]
    },
    {
     "name": "stdout",
     "output_type": "stream",
     "text": [
      "Getting data from page, range: 2791..2820\n"
     ]
    },
    {
     "name": "stderr",
     "output_type": "stream",
     "text": [
      " 53%|█████████████████████████████████████████████████████████████████████████████████████████████▉                                                                                    | 94/178 [09:12<08:28,  6.06s/it]"
     ]
    },
    {
     "name": "stdout",
     "output_type": "stream",
     "text": [
      "Getting data from page, range: 2821..2850\n"
     ]
    },
    {
     "name": "stderr",
     "output_type": "stream",
     "text": [
      " 53%|███████████████████████████████████████████████████████████████████████████████████████████████                                                                                   | 95/178 [09:17<08:00,  5.79s/it]"
     ]
    },
    {
     "name": "stdout",
     "output_type": "stream",
     "text": [
      "Getting data from page, range: 2851..2880\n"
     ]
    },
    {
     "name": "stderr",
     "output_type": "stream",
     "text": [
      " 54%|████████████████████████████████████████████████████████████████████████████████████████████████                                                                                  | 96/178 [09:23<08:01,  5.87s/it]"
     ]
    },
    {
     "name": "stdout",
     "output_type": "stream",
     "text": [
      "Getting data from page, range: 2881..2910\n"
     ]
    },
    {
     "name": "stderr",
     "output_type": "stream",
     "text": [
      " 54%|█████████████████████████████████████████████████████████████████████████████████████████████████                                                                                 | 97/178 [09:29<08:05,  5.99s/it]"
     ]
    },
    {
     "name": "stdout",
     "output_type": "stream",
     "text": [
      "Getting data from page, range: 2911..2940\n"
     ]
    },
    {
     "name": "stderr",
     "output_type": "stream",
     "text": [
      " 55%|██████████████████████████████████████████████████████████████████████████████████████████████████                                                                                | 98/178 [09:35<07:39,  5.74s/it]"
     ]
    },
    {
     "name": "stdout",
     "output_type": "stream",
     "text": [
      "Getting data from page, range: 2941..2970\n"
     ]
    },
    {
     "name": "stderr",
     "output_type": "stream",
     "text": [
      " 56%|███████████████████████████████████████████████████████████████████████████████████████████████████                                                                               | 99/178 [09:40<07:24,  5.63s/it]"
     ]
    },
    {
     "name": "stdout",
     "output_type": "stream",
     "text": [
      "Getting data from page, range: 2971..3000\n"
     ]
    },
    {
     "name": "stderr",
     "output_type": "stream",
     "text": [
      " 56%|███████████████████████████████████████████████████████████████████████████████████████████████████▍                                                                             | 100/178 [09:59<12:31,  9.63s/it]"
     ]
    },
    {
     "name": "stdout",
     "output_type": "stream",
     "text": [
      "Getting data from page, range: 3001..3030\n"
     ]
    },
    {
     "name": "stderr",
     "output_type": "stream",
     "text": [
      " 57%|████████████████████████████████████████████████████████████████████████████████████████████████████▍                                                                            | 101/178 [10:05<10:53,  8.49s/it]"
     ]
    },
    {
     "name": "stdout",
     "output_type": "stream",
     "text": [
      "Getting data from page, range: 3031..3060\n"
     ]
    },
    {
     "name": "stderr",
     "output_type": "stream",
     "text": [
      " 57%|█████████████████████████████████████████████████████████████████████████████████████████████████████▍                                                                           | 102/178 [10:10<09:26,  7.45s/it]"
     ]
    },
    {
     "name": "stdout",
     "output_type": "stream",
     "text": [
      "Getting data from page, range: 3061..3090\n"
     ]
    },
    {
     "name": "stderr",
     "output_type": "stream",
     "text": [
      " 58%|██████████████████████████████████████████████████████████████████████████████████████████████████████▍                                                                          | 103/178 [10:15<08:29,  6.80s/it]"
     ]
    },
    {
     "name": "stdout",
     "output_type": "stream",
     "text": [
      "Getting data from page, range: 3091..3120\n"
     ]
    },
    {
     "name": "stderr",
     "output_type": "stream",
     "text": [
      " 58%|███████████████████████████████████████████████████████████████████████████████████████████████████████▍                                                                         | 104/178 [10:20<07:47,  6.31s/it]"
     ]
    },
    {
     "name": "stdout",
     "output_type": "stream",
     "text": [
      "Getting data from page, range: 3121..3150\n"
     ]
    },
    {
     "name": "stderr",
     "output_type": "stream",
     "text": [
      " 59%|████████████████████████████████████████████████████████████████████████████████████████████████████████▍                                                                        | 105/178 [10:26<07:30,  6.17s/it]"
     ]
    },
    {
     "name": "stdout",
     "output_type": "stream",
     "text": [
      "Getting data from page, range: 3151..3180\n"
     ]
    },
    {
     "name": "stderr",
     "output_type": "stream",
     "text": [
      " 60%|█████████████████████████████████████████████████████████████████████████████████████████████████████████▍                                                                       | 106/178 [10:31<07:06,  5.92s/it]"
     ]
    },
    {
     "name": "stdout",
     "output_type": "stream",
     "text": [
      "Getting data from page, range: 3181..3210\n"
     ]
    },
    {
     "name": "stderr",
     "output_type": "stream",
     "text": [
      " 60%|██████████████████████████████████████████████████████████████████████████████████████████████████████████▍                                                                      | 107/178 [10:39<07:42,  6.52s/it]"
     ]
    },
    {
     "name": "stdout",
     "output_type": "stream",
     "text": [
      "Getting data from page, range: 3211..3240\n"
     ]
    },
    {
     "name": "stderr",
     "output_type": "stream",
     "text": [
      " 61%|███████████████████████████████████████████████████████████████████████████████████████████████████████████▍                                                                     | 108/178 [10:45<07:11,  6.16s/it]"
     ]
    },
    {
     "name": "stdout",
     "output_type": "stream",
     "text": [
      "Getting data from page, range: 3241..3270\n"
     ]
    },
    {
     "name": "stderr",
     "output_type": "stream",
     "text": [
      " 61%|████████████████████████████████████████████████████████████████████████████████████████████████████████████▍                                                                    | 109/178 [10:55<08:32,  7.43s/it]"
     ]
    },
    {
     "name": "stdout",
     "output_type": "stream",
     "text": [
      "Getting data from page, range: 3271..3300\n"
     ]
    },
    {
     "name": "stderr",
     "output_type": "stream",
     "text": [
      " 62%|█████████████████████████████████████████████████████████████████████████████████████████████████████████████▍                                                                   | 110/178 [11:02<08:15,  7.28s/it]"
     ]
    },
    {
     "name": "stdout",
     "output_type": "stream",
     "text": [
      "Getting data from page, range: 3301..3330\n"
     ]
    },
    {
     "name": "stderr",
     "output_type": "stream",
     "text": [
      " 62%|██████████████████████████████████████████████████████████████████████████████████████████████████████████████▍                                                                  | 111/178 [11:07<07:31,  6.74s/it]"
     ]
    },
    {
     "name": "stdout",
     "output_type": "stream",
     "text": [
      "Getting data from page, range: 3331..3360\n"
     ]
    },
    {
     "name": "stderr",
     "output_type": "stream",
     "text": [
      " 63%|███████████████████████████████████████████████████████████████████████████████████████████████████████████████▎                                                                 | 112/178 [11:14<07:22,  6.70s/it]"
     ]
    },
    {
     "name": "stdout",
     "output_type": "stream",
     "text": [
      "Getting data from page, range: 3361..3390\n"
     ]
    },
    {
     "name": "stderr",
     "output_type": "stream",
     "text": [
      " 63%|████████████████████████████████████████████████████████████████████████████████████████████████████████████████▎                                                                | 113/178 [11:19<06:47,  6.27s/it]"
     ]
    },
    {
     "name": "stdout",
     "output_type": "stream",
     "text": [
      "Getting data from page, range: 3391..3420\n"
     ]
    },
    {
     "name": "stderr",
     "output_type": "stream",
     "text": [
      " 64%|█████████████████████████████████████████████████████████████████████████████████████████████████████████████████▎                                                               | 114/178 [11:25<06:21,  5.97s/it]"
     ]
    },
    {
     "name": "stdout",
     "output_type": "stream",
     "text": [
      "Getting data from page, range: 3421..3450\n"
     ]
    },
    {
     "name": "stderr",
     "output_type": "stream",
     "text": [
      " 65%|██████████████████████████████████████████████████████████████████████████████████████████████████████████████████▎                                                              | 115/178 [11:30<06:04,  5.79s/it]"
     ]
    },
    {
     "name": "stdout",
     "output_type": "stream",
     "text": [
      "Getting data from page, range: 3451..3480\n"
     ]
    },
    {
     "name": "stderr",
     "output_type": "stream",
     "text": [
      " 65%|███████████████████████████████████████████████████████████████████████████████████████████████████████████████████▎                                                             | 116/178 [11:36<06:05,  5.90s/it]"
     ]
    },
    {
     "name": "stdout",
     "output_type": "stream",
     "text": [
      "Getting data from page, range: 3481..3510\n"
     ]
    },
    {
     "name": "stderr",
     "output_type": "stream",
     "text": [
      " 66%|████████████████████████████████████████████████████████████████████████████████████████████████████████████████████▎                                                            | 117/178 [11:42<05:52,  5.78s/it]"
     ]
    },
    {
     "name": "stdout",
     "output_type": "stream",
     "text": [
      "Getting data from page, range: 3511..3540\n"
     ]
    },
    {
     "name": "stderr",
     "output_type": "stream",
     "text": [
      " 66%|█████████████████████████████████████████████████████████████████████████████████████████████████████████████████████▎                                                           | 118/178 [11:47<05:41,  5.69s/it]"
     ]
    },
    {
     "name": "stdout",
     "output_type": "stream",
     "text": [
      "Getting data from page, range: 3541..3570\n"
     ]
    },
    {
     "name": "stderr",
     "output_type": "stream",
     "text": [
      " 67%|██████████████████████████████████████████████████████████████████████████████████████████████████████████████████████▎                                                          | 119/178 [11:52<05:26,  5.53s/it]"
     ]
    },
    {
     "name": "stdout",
     "output_type": "stream",
     "text": [
      "Getting data from page, range: 3571..3600\n"
     ]
    },
    {
     "name": "stderr",
     "output_type": "stream",
     "text": [
      " 67%|███████████████████████████████████████████████████████████████████████████████████████████████████████████████████████▎                                                         | 120/178 [11:59<05:49,  6.03s/it]"
     ]
    },
    {
     "name": "stdout",
     "output_type": "stream",
     "text": [
      "Getting data from page, range: 3601..3630\n"
     ]
    },
    {
     "name": "stderr",
     "output_type": "stream",
     "text": [
      " 68%|████████████████████████████████████████████████████████████████████████████████████████████████████████████████████████▎                                                        | 121/178 [12:05<05:41,  5.99s/it]"
     ]
    },
    {
     "name": "stdout",
     "output_type": "stream",
     "text": [
      "Getting data from page, range: 3631..3660\n"
     ]
    },
    {
     "name": "stderr",
     "output_type": "stream",
     "text": [
      " 69%|█████████████████████████████████████████████████████████████████████████████████████████████████████████████████████████▎                                                       | 122/178 [12:11<05:27,  5.85s/it]"
     ]
    },
    {
     "name": "stdout",
     "output_type": "stream",
     "text": [
      "Getting data from page, range: 3661..3690\n"
     ]
    },
    {
     "name": "stderr",
     "output_type": "stream",
     "text": [
      " 69%|██████████████████████████████████████████████████████████████████████████████████████████████████████████████████████████▎                                                      | 123/178 [12:16<05:16,  5.76s/it]"
     ]
    },
    {
     "name": "stdout",
     "output_type": "stream",
     "text": [
      "Getting data from page, range: 3691..3720\n"
     ]
    },
    {
     "name": "stderr",
     "output_type": "stream",
     "text": [
      " 70%|███████████████████████████████████████████████████████████████████████████████████████████████████████████████████████████▎                                                     | 124/178 [12:22<05:01,  5.58s/it]"
     ]
    },
    {
     "name": "stdout",
     "output_type": "stream",
     "text": [
      "Getting data from page, range: 3721..3750\n"
     ]
    },
    {
     "name": "stderr",
     "output_type": "stream",
     "text": [
      " 70%|████████████████████████████████████████████████████████████████████████████████████████████████████████████████████████████▎                                                    | 125/178 [12:27<04:52,  5.51s/it]"
     ]
    },
    {
     "name": "stdout",
     "output_type": "stream",
     "text": [
      "Getting data from page, range: 3751..3780\n"
     ]
    },
    {
     "name": "stderr",
     "output_type": "stream",
     "text": [
      " 71%|█████████████████████████████████████████████████████████████████████████████████████████████████████████████████████████████▎                                                   | 126/178 [12:32<04:39,  5.38s/it]"
     ]
    },
    {
     "name": "stdout",
     "output_type": "stream",
     "text": [
      "Getting data from page, range: 3781..3810\n"
     ]
    },
    {
     "name": "stderr",
     "output_type": "stream",
     "text": [
      " 71%|██████████████████████████████████████████████████████████████████████████████████████████████████████████████████████████████▎                                                  | 127/178 [12:37<04:30,  5.31s/it]"
     ]
    },
    {
     "name": "stdout",
     "output_type": "stream",
     "text": [
      "Getting data from page, range: 3811..3840\n"
     ]
    },
    {
     "name": "stderr",
     "output_type": "stream",
     "text": [
      " 72%|███████████████████████████████████████████████████████████████████████████████████████████████████████████████████████████████▎                                                 | 128/178 [12:42<04:24,  5.30s/it]"
     ]
    },
    {
     "name": "stdout",
     "output_type": "stream",
     "text": [
      "Getting data from page, range: 3841..3870\n"
     ]
    },
    {
     "name": "stderr",
     "output_type": "stream",
     "text": [
      " 72%|████████████████████████████████████████████████████████████████████████████████████████████████████████████████████████████████▎                                                | 129/178 [12:48<04:17,  5.26s/it]"
     ]
    },
    {
     "name": "stdout",
     "output_type": "stream",
     "text": [
      "Getting data from page, range: 3871..3900\n"
     ]
    },
    {
     "name": "stderr",
     "output_type": "stream",
     "text": [
      " 73%|█████████████████████████████████████████████████████████████████████████████████████████████████████████████████████████████████▎                                               | 130/178 [12:53<04:10,  5.23s/it]"
     ]
    },
    {
     "name": "stdout",
     "output_type": "stream",
     "text": [
      "Getting data from page, range: 3901..3930\n"
     ]
    },
    {
     "name": "stderr",
     "output_type": "stream",
     "text": [
      " 74%|██████████████████████████████████████████████████████████████████████████████████████████████████████████████████████████████████▎                                              | 131/178 [12:59<04:19,  5.53s/it]"
     ]
    },
    {
     "name": "stdout",
     "output_type": "stream",
     "text": [
      "Getting data from page, range: 3931..3960\n"
     ]
    },
    {
     "name": "stderr",
     "output_type": "stream",
     "text": [
      " 74%|███████████████████████████████████████████████████████████████████████████████████████████████████████████████████████████████████▎                                             | 132/178 [13:04<04:10,  5.45s/it]"
     ]
    },
    {
     "name": "stdout",
     "output_type": "stream",
     "text": [
      "Getting data from page, range: 3961..3990\n"
     ]
    },
    {
     "name": "stderr",
     "output_type": "stream",
     "text": [
      " 75%|████████████████████████████████████████████████████████████████████████████████████████████████████████████████████████████████████▎                                            | 133/178 [13:10<04:03,  5.42s/it]"
     ]
    },
    {
     "name": "stdout",
     "output_type": "stream",
     "text": [
      "Getting data from page, range: 3991..4020\n"
     ]
    },
    {
     "name": "stderr",
     "output_type": "stream",
     "text": [
      " 75%|█████████████████████████████████████████████████████████████████████████████████████████████████████████████████████████████████████▏                                           | 134/178 [13:15<03:59,  5.44s/it]"
     ]
    },
    {
     "name": "stdout",
     "output_type": "stream",
     "text": [
      "Getting data from page, range: 4021..4050\n"
     ]
    },
    {
     "name": "stderr",
     "output_type": "stream",
     "text": [
      " 76%|██████████████████████████████████████████████████████████████████████████████████████████████████████████████████████████████████████▏                                          | 135/178 [13:20<03:51,  5.39s/it]"
     ]
    },
    {
     "name": "stdout",
     "output_type": "stream",
     "text": [
      "Getting data from page, range: 4051..4080\n"
     ]
    },
    {
     "name": "stderr",
     "output_type": "stream",
     "text": [
      " 76%|███████████████████████████████████████████████████████████████████████████████████████████████████████████████████████████████████████▏                                         | 136/178 [13:26<03:48,  5.44s/it]"
     ]
    },
    {
     "name": "stdout",
     "output_type": "stream",
     "text": [
      "Getting data from page, range: 4081..4110\n"
     ]
    },
    {
     "name": "stderr",
     "output_type": "stream",
     "text": [
      " 77%|████████████████████████████████████████████████████████████████████████████████████████████████████████████████████████████████████████▏                                        | 137/178 [13:32<03:55,  5.75s/it]"
     ]
    },
    {
     "name": "stdout",
     "output_type": "stream",
     "text": [
      "Getting data from page, range: 4111..4140\n"
     ]
    },
    {
     "name": "stderr",
     "output_type": "stream",
     "text": [
      " 78%|█████████████████████████████████████████████████████████████████████████████████████████████████████████████████████████████████████████▏                                       | 138/178 [13:39<03:58,  5.97s/it]"
     ]
    },
    {
     "name": "stdout",
     "output_type": "stream",
     "text": [
      "Getting data from page, range: 4141..4170\n"
     ]
    },
    {
     "name": "stderr",
     "output_type": "stream",
     "text": [
      " 78%|██████████████████████████████████████████████████████████████████████████████████████████████████████████████████████████████████████████▏                                      | 139/178 [13:47<04:16,  6.57s/it]"
     ]
    },
    {
     "name": "stdout",
     "output_type": "stream",
     "text": [
      "Getting data from page, range: 4171..4200\n"
     ]
    },
    {
     "name": "stderr",
     "output_type": "stream",
     "text": [
      " 79%|███████████████████████████████████████████████████████████████████████████████████████████████████████████████████████████████████████████▏                                     | 140/178 [13:53<04:04,  6.43s/it]"
     ]
    },
    {
     "name": "stdout",
     "output_type": "stream",
     "text": [
      "Getting data from page, range: 4201..4230\n"
     ]
    },
    {
     "name": "stderr",
     "output_type": "stream",
     "text": [
      " 79%|████████████████████████████████████████████████████████████████████████████████████████████████████████████████████████████████████████████▏                                    | 141/178 [13:59<03:51,  6.24s/it]"
     ]
    },
    {
     "name": "stdout",
     "output_type": "stream",
     "text": [
      "Getting data from page, range: 4231..4260\n"
     ]
    },
    {
     "name": "stderr",
     "output_type": "stream",
     "text": [
      " 80%|█████████████████████████████████████████████████████████████████████████████████████████████████████████████████████████████████████████████▏                                   | 142/178 [14:05<03:41,  6.14s/it]"
     ]
    },
    {
     "name": "stdout",
     "output_type": "stream",
     "text": [
      "Getting data from page, range: 4261..4290\n"
     ]
    },
    {
     "name": "stderr",
     "output_type": "stream",
     "text": [
      " 80%|██████████████████████████████████████████████████████████████████████████████████████████████████████████████████████████████████████████████▏                                  | 143/178 [14:10<03:27,  5.92s/it]"
     ]
    },
    {
     "name": "stdout",
     "output_type": "stream",
     "text": [
      "Getting data from page, range: 4291..4320\n"
     ]
    },
    {
     "name": "stderr",
     "output_type": "stream",
     "text": [
      " 81%|███████████████████████████████████████████████████████████████████████████████████████████████████████████████████████████████████████████████▏                                 | 144/178 [14:15<03:16,  5.78s/it]"
     ]
    },
    {
     "name": "stdout",
     "output_type": "stream",
     "text": [
      "Getting data from page, range: 4321..4350\n"
     ]
    },
    {
     "name": "stderr",
     "output_type": "stream",
     "text": [
      " 81%|████████████████████████████████████████████████████████████████████████████████████████████████████████████████████████████████████████████████▏                                | 145/178 [14:21<03:07,  5.68s/it]"
     ]
    },
    {
     "name": "stdout",
     "output_type": "stream",
     "text": [
      "Getting data from page, range: 4351..4380\n"
     ]
    },
    {
     "name": "stderr",
     "output_type": "stream",
     "text": [
      " 82%|█████████████████████████████████████████████████████████████████████████████████████████████████████████████████████████████████████████████████▏                               | 146/178 [14:27<03:01,  5.68s/it]"
     ]
    },
    {
     "name": "stdout",
     "output_type": "stream",
     "text": [
      "Getting data from page, range: 4381..4410\n"
     ]
    },
    {
     "name": "stderr",
     "output_type": "stream",
     "text": [
      " 83%|██████████████████████████████████████████████████████████████████████████████████████████████████████████████████████████████████████████████████▏                              | 147/178 [14:32<02:52,  5.57s/it]"
     ]
    },
    {
     "name": "stdout",
     "output_type": "stream",
     "text": [
      "Getting data from page, range: 4411..4440\n"
     ]
    },
    {
     "name": "stderr",
     "output_type": "stream",
     "text": [
      " 83%|███████████████████████████████████████████████████████████████████████████████████████████████████████████████████████████████████████████████████▏                             | 148/178 [14:37<02:44,  5.50s/it]"
     ]
    },
    {
     "name": "stdout",
     "output_type": "stream",
     "text": [
      "Getting data from page, range: 4441..4470\n"
     ]
    },
    {
     "name": "stderr",
     "output_type": "stream",
     "text": [
      " 84%|████████████████████████████████████████████████████████████████████████████████████████████████████████████████████████████████████████████████████▏                            | 149/178 [14:43<02:37,  5.44s/it]"
     ]
    },
    {
     "name": "stdout",
     "output_type": "stream",
     "text": [
      "Getting data from page, range: 4471..4500\n"
     ]
    },
    {
     "name": "stderr",
     "output_type": "stream",
     "text": [
      " 84%|█████████████████████████████████████████████████████████████████████████████████████████████████████████████████████████████████████████████████████▏                           | 150/178 [14:48<02:33,  5.50s/it]"
     ]
    },
    {
     "name": "stdout",
     "output_type": "stream",
     "text": [
      "Getting data from page, range: 4501..4530\n"
     ]
    },
    {
     "name": "stderr",
     "output_type": "stream",
     "text": [
      " 85%|██████████████████████████████████████████████████████████████████████████████████████████████████████████████████████████████████████████████████████▏                          | 151/178 [14:54<02:29,  5.53s/it]"
     ]
    },
    {
     "name": "stdout",
     "output_type": "stream",
     "text": [
      "Getting data from page, range: 4531..4560\n"
     ]
    },
    {
     "name": "stderr",
     "output_type": "stream",
     "text": [
      " 85%|███████████████████████████████████████████████████████████████████████████████████████████████████████████████████████████████████████████████████████▏                         | 152/178 [14:59<02:24,  5.56s/it]"
     ]
    },
    {
     "name": "stdout",
     "output_type": "stream",
     "text": [
      "Getting data from page, range: 4561..4590\n"
     ]
    },
    {
     "name": "stderr",
     "output_type": "stream",
     "text": [
      " 86%|████████████████████████████████████████████████████████████████████████████████████████████████████████████████████████████████████████████████████████▏                        | 153/178 [15:05<02:16,  5.47s/it]"
     ]
    },
    {
     "name": "stdout",
     "output_type": "stream",
     "text": [
      "Getting data from page, range: 4591..4620\n"
     ]
    },
    {
     "name": "stderr",
     "output_type": "stream",
     "text": [
      " 87%|█████████████████████████████████████████████████████████████████████████████████████████████████████████████████████████████████████████████████████████▏                       | 154/178 [15:10<02:11,  5.49s/it]"
     ]
    },
    {
     "name": "stdout",
     "output_type": "stream",
     "text": [
      "Getting data from page, range: 4621..4650\n"
     ]
    },
    {
     "name": "stderr",
     "output_type": "stream",
     "text": [
      " 87%|██████████████████████████████████████████████████████████████████████████████████████████████████████████████████████████████████████████████████████████▏                      | 155/178 [15:16<02:08,  5.60s/it]"
     ]
    },
    {
     "name": "stdout",
     "output_type": "stream",
     "text": [
      "Getting data from page, range: 4651..4680\n"
     ]
    },
    {
     "name": "stderr",
     "output_type": "stream",
     "text": [
      " 88%|███████████████████████████████████████████████████████████████████████████████████████████████████████████████████████████████████████████████████████████                      | 156/178 [15:21<02:01,  5.51s/it]"
     ]
    },
    {
     "name": "stdout",
     "output_type": "stream",
     "text": [
      "Getting data from page, range: 4681..4710\n"
     ]
    },
    {
     "name": "stderr",
     "output_type": "stream",
     "text": [
      " 88%|████████████████████████████████████████████████████████████████████████████████████████████████████████████████████████████████████████████████████████████                     | 157/178 [15:27<01:53,  5.41s/it]"
     ]
    },
    {
     "name": "stdout",
     "output_type": "stream",
     "text": [
      "Getting data from page, range: 4711..4740\n"
     ]
    },
    {
     "name": "stderr",
     "output_type": "stream",
     "text": [
      " 89%|█████████████████████████████████████████████████████████████████████████████████████████████████████████████████████████████████████████████████████████████                    | 158/178 [15:32<01:46,  5.30s/it]"
     ]
    },
    {
     "name": "stdout",
     "output_type": "stream",
     "text": [
      "Getting data from page, range: 4741..4770\n"
     ]
    },
    {
     "name": "stderr",
     "output_type": "stream",
     "text": [
      " 89%|██████████████████████████████████████████████████████████████████████████████████████████████████████████████████████████████████████████████████████████████                   | 159/178 [15:37<01:40,  5.27s/it]"
     ]
    },
    {
     "name": "stdout",
     "output_type": "stream",
     "text": [
      "Getting data from page, range: 4771..4800\n"
     ]
    },
    {
     "name": "stderr",
     "output_type": "stream",
     "text": [
      " 90%|███████████████████████████████████████████████████████████████████████████████████████████████████████████████████████████████████████████████████████████████                  | 160/178 [15:42<01:33,  5.19s/it]"
     ]
    },
    {
     "name": "stdout",
     "output_type": "stream",
     "text": [
      "Getting data from page, range: 4801..4830\n"
     ]
    },
    {
     "name": "stderr",
     "output_type": "stream",
     "text": [
      " 90%|████████████████████████████████████████████████████████████████████████████████████████████████████████████████████████████████████████████████████████████████                 | 161/178 [15:47<01:29,  5.27s/it]"
     ]
    },
    {
     "name": "stdout",
     "output_type": "stream",
     "text": [
      "Getting data from page, range: 4831..4860\n"
     ]
    },
    {
     "name": "stderr",
     "output_type": "stream",
     "text": [
      " 91%|█████████████████████████████████████████████████████████████████████████████████████████████████████████████████████████████████████████████████████████████████                | 162/178 [15:53<01:26,  5.39s/it]"
     ]
    },
    {
     "name": "stdout",
     "output_type": "stream",
     "text": [
      "Getting data from page, range: 4861..4890\n"
     ]
    },
    {
     "name": "stderr",
     "output_type": "stream",
     "text": [
      " 92%|██████████████████████████████████████████████████████████████████████████████████████████████████████████████████████████████████████████████████████████████████               | 163/178 [15:58<01:21,  5.43s/it]"
     ]
    },
    {
     "name": "stdout",
     "output_type": "stream",
     "text": [
      "Getting data from page, range: 4891..4920\n"
     ]
    },
    {
     "name": "stderr",
     "output_type": "stream",
     "text": [
      " 92%|███████████████████████████████████████████████████████████████████████████████████████████████████████████████████████████████████████████████████████████████████              | 164/178 [16:04<01:15,  5.37s/it]"
     ]
    },
    {
     "name": "stdout",
     "output_type": "stream",
     "text": [
      "Getting data from page, range: 4921..4950\n"
     ]
    },
    {
     "name": "stderr",
     "output_type": "stream",
     "text": [
      " 93%|████████████████████████████████████████████████████████████████████████████████████████████████████████████████████████████████████████████████████████████████████             | 165/178 [16:23<02:03,  9.47s/it]"
     ]
    },
    {
     "name": "stdout",
     "output_type": "stream",
     "text": [
      "Getting data from page, range: 4951..4980\n"
     ]
    },
    {
     "name": "stderr",
     "output_type": "stream",
     "text": [
      " 93%|█████████████████████████████████████████████████████████████████████████████████████████████████████████████████████████████████████████████████████████████████████            | 166/178 [16:28<01:39,  8.27s/it]"
     ]
    },
    {
     "name": "stdout",
     "output_type": "stream",
     "text": [
      "Getting data from page, range: 4981..5010\n"
     ]
    },
    {
     "name": "stderr",
     "output_type": "stream",
     "text": [
      " 94%|██████████████████████████████████████████████████████████████████████████████████████████████████████████████████████████████████████████████████████████████████████           | 167/178 [16:33<01:21,  7.37s/it]"
     ]
    },
    {
     "name": "stdout",
     "output_type": "stream",
     "text": [
      "Getting data from page, range: 5011..5040\n"
     ]
    },
    {
     "name": "stderr",
     "output_type": "stream",
     "text": [
      " 94%|███████████████████████████████████████████████████████████████████████████████████████████████████████████████████████████████████████████████████████████████████████          | 168/178 [16:39<01:06,  6.70s/it]"
     ]
    },
    {
     "name": "stdout",
     "output_type": "stream",
     "text": [
      "Getting data from page, range: 5041..5070\n"
     ]
    },
    {
     "name": "stderr",
     "output_type": "stream",
     "text": [
      " 95%|████████████████████████████████████████████████████████████████████████████████████████████████████████████████████████████████████████████████████████████████████████         | 169/178 [16:44<00:56,  6.23s/it]"
     ]
    },
    {
     "name": "stdout",
     "output_type": "stream",
     "text": [
      "Getting data from page, range: 5071..5100\n"
     ]
    },
    {
     "name": "stderr",
     "output_type": "stream",
     "text": [
      " 96%|█████████████████████████████████████████████████████████████████████████████████████████████████████████████████████████████████████████████████████████████████████████        | 170/178 [16:49<00:47,  6.00s/it]"
     ]
    },
    {
     "name": "stdout",
     "output_type": "stream",
     "text": [
      "Getting data from page, range: 5101..5130\n"
     ]
    },
    {
     "name": "stderr",
     "output_type": "stream",
     "text": [
      " 96%|██████████████████████████████████████████████████████████████████████████████████████████████████████████████████████████████████████████████████████████████████████████       | 171/178 [16:55<00:41,  5.93s/it]"
     ]
    },
    {
     "name": "stdout",
     "output_type": "stream",
     "text": [
      "Getting data from page, range: 5131..5160\n"
     ]
    },
    {
     "name": "stderr",
     "output_type": "stream",
     "text": [
      " 97%|███████████████████████████████████████████████████████████████████████████████████████████████████████████████████████████████████████████████████████████████████████████      | 172/178 [17:00<00:34,  5.73s/it]"
     ]
    },
    {
     "name": "stdout",
     "output_type": "stream",
     "text": [
      "Getting data from page, range: 5161..5190\n"
     ]
    },
    {
     "name": "stderr",
     "output_type": "stream",
     "text": [
      " 97%|████████████████████████████████████████████████████████████████████████████████████████████████████████████████████████████████████████████████████████████████████████████     | 173/178 [17:06<00:28,  5.65s/it]"
     ]
    },
    {
     "name": "stdout",
     "output_type": "stream",
     "text": [
      "Getting data from page, range: 5191..5220\n"
     ]
    },
    {
     "name": "stderr",
     "output_type": "stream",
     "text": [
      " 98%|█████████████████████████████████████████████████████████████████████████████████████████████████████████████████████████████████████████████████████████████████████████████    | 174/178 [17:11<00:22,  5.58s/it]"
     ]
    },
    {
     "name": "stdout",
     "output_type": "stream",
     "text": [
      "Getting data from page, range: 5221..5250\n"
     ]
    },
    {
     "name": "stderr",
     "output_type": "stream",
     "text": [
      " 98%|██████████████████████████████████████████████████████████████████████████████████████████████████████████████████████████████████████████████████████████████████████████████   | 175/178 [17:24<00:23,  7.77s/it]"
     ]
    },
    {
     "name": "stdout",
     "output_type": "stream",
     "text": [
      "Getting data from page, range: 5251..5280\n"
     ]
    },
    {
     "name": "stderr",
     "output_type": "stream",
     "text": [
      " 99%|███████████████████████████████████████████████████████████████████████████████████████████████████████████████████████████████████████████████████████████████████████████████  | 176/178 [17:29<00:14,  7.02s/it]"
     ]
    },
    {
     "name": "stdout",
     "output_type": "stream",
     "text": [
      "Getting data from page, range: 5281..5310\n"
     ]
    },
    {
     "name": "stderr",
     "output_type": "stream",
     "text": [
      "100%|█████████████████████████████████████████████████████████████████████████████████████████████████████████████████████████████████████████████████████████████████████████████████| 178/178 [17:34<00:00,  5.92s/it]"
     ]
    },
    {
     "name": "stdout",
     "output_type": "stream",
     "text": [
      "Getting data from page, range: 5311..5311\n",
      "We are already at the end of the website\n"
     ]
    },
    {
     "name": "stderr",
     "output_type": "stream",
     "text": [
      "\n"
     ]
    }
   ],
   "source": [
    "rows = []\n",
    "total_rows=get_total_rows(get_main_table())\n",
    "#iterate from 0 to total_rows with step equal to 30, and do one extra iteration at the end\n",
    "for page in tqdm(range(0, total_rows, 30)):\n",
    "    table = get_main_table()\n",
    "    print(\"Getting data from page, range:\", get_current_rows(table))\n",
    "    rows += [get_data_from_row(row) for row in get_data_rows(table)]\n",
    "    if str(total_rows) not in get_current_rows(table):\n",
    "        get_next_page_button(table).click()\n",
    "    else:\n",
    "        print(\"We are already at the end of the website\")"
   ]
  },
  {
   "cell_type": "markdown",
   "metadata": {},
   "source": [
    "Processing time: 17m33s"
   ]
  },
  {
   "cell_type": "code",
   "execution_count": 28,
   "metadata": {},
   "outputs": [],
   "source": [
    "#pickle rows\n",
    "import pickle\n",
    "with open(\"tematy.pickle\", \"wb\") as f:\n",
    "    pickle.dump(rows, f)"
   ]
  },
  {
   "cell_type": "code",
   "execution_count": 24,
   "metadata": {},
   "outputs": [],
   "source": [
    "#convert that to pandas dataframe\n",
    "import pandas as pd\n",
    "#add url as second column\n",
    "columns = get_columns_from_header_row(get_main_table())\n",
    "columns.insert(1, \"url\")\n",
    "df = pd.DataFrame(rows, columns=columns)"
   ]
  },
  {
   "cell_type": "code",
   "execution_count": 26,
   "metadata": {},
   "outputs": [
    {
     "data": {
      "text/html": [
       "<div>\n",
       "<style scoped>\n",
       "    .dataframe tbody tr th:only-of-type {\n",
       "        vertical-align: middle;\n",
       "    }\n",
       "\n",
       "    .dataframe tbody tr th {\n",
       "        vertical-align: top;\n",
       "    }\n",
       "\n",
       "    .dataframe thead th {\n",
       "        text-align: right;\n",
       "    }\n",
       "</style>\n",
       "<table border=\"1\" class=\"dataframe\">\n",
       "  <thead>\n",
       "    <tr style=\"text-align: right;\">\n",
       "      <th></th>\n",
       "      <th>Tytuł pracy w języku oryginału</th>\n",
       "      <th>url</th>\n",
       "      <th>Jednostka organizacyjna</th>\n",
       "      <th>Osoba zgłaszająca temat</th>\n",
       "      <th>Kierunki studiów</th>\n",
       "      <th>Typ pracy</th>\n",
       "      <th>Status tematu</th>\n",
       "      <th>Data aktualizacji</th>\n",
       "    </tr>\n",
       "  </thead>\n",
       "  <tbody>\n",
       "    <tr>\n",
       "      <th>5063</th>\n",
       "      <td>Wykorzystanie technik bezprzewodowych w ocenie...</td>\n",
       "      <td>https://apd.usos.agh.edu.pl/topics/show/1506/</td>\n",
       "      <td>[130-000] Wydział Inżynierii Mechanicznej i Ro...</td>\n",
       "      <td>Jerzy Kwaśniewski</td>\n",
       "      <td>Mechanika i Budowa Maszyn</td>\n",
       "      <td>magisterska</td>\n",
       "      <td>Dostępny</td>\n",
       "      <td>22 października 2021</td>\n",
       "    </tr>\n",
       "    <tr>\n",
       "      <th>3026</th>\n",
       "      <td>Opracowanie składu zestawu surowcowego i otrzy...</td>\n",
       "      <td>https://apd.usos.agh.edu.pl/topics/show/8556/</td>\n",
       "      <td>[160-000] Wydział Inżynierii Materiałowej i Ce...</td>\n",
       "      <td>Marcin Środa</td>\n",
       "      <td>inżynieria materiałowa,\\nTechnologia Chemiczna</td>\n",
       "      <td>inżynierska</td>\n",
       "      <td>Dostępny</td>\n",
       "      <td>3 kwietnia 2023</td>\n",
       "    </tr>\n",
       "  </tbody>\n",
       "</table>\n",
       "</div>"
      ],
      "text/plain": [
       "                         Tytuł pracy w języku oryginału  \\\n",
       "5063  Wykorzystanie technik bezprzewodowych w ocenie...   \n",
       "3026  Opracowanie składu zestawu surowcowego i otrzy...   \n",
       "\n",
       "                                                url  \\\n",
       "5063  https://apd.usos.agh.edu.pl/topics/show/1506/   \n",
       "3026  https://apd.usos.agh.edu.pl/topics/show/8556/   \n",
       "\n",
       "                                Jednostka organizacyjna  \\\n",
       "5063  [130-000] Wydział Inżynierii Mechanicznej i Ro...   \n",
       "3026  [160-000] Wydział Inżynierii Materiałowej i Ce...   \n",
       "\n",
       "     Osoba zgłaszająca temat                                Kierunki studiów  \\\n",
       "5063       Jerzy Kwaśniewski                       Mechanika i Budowa Maszyn   \n",
       "3026            Marcin Środa  inżynieria materiałowa,\\nTechnologia Chemiczna   \n",
       "\n",
       "        Typ pracy Status tematu     Data aktualizacji  \n",
       "5063  magisterska      Dostępny  22 października 2021  \n",
       "3026  inżynierska      Dostępny       3 kwietnia 2023  "
      ]
     },
     "execution_count": 26,
     "metadata": {},
     "output_type": "execute_result"
    }
   ],
   "source": [
    "df.sample(2)"
   ]
  },
  {
   "cell_type": "code",
   "execution_count": 29,
   "metadata": {},
   "outputs": [],
   "source": [
    "#pickle the dataframe\n",
    "with open(\"tematy_df.pickle\", \"wb\") as f:\n",
    "    pickle.dump(df, f)"
   ]
  }
 ],
 "metadata": {
  "kernelspec": {
   "display_name": "Python 3 (ipykernel)",
   "language": "python",
   "name": "python3"
  }
 },
 "nbformat": 4,
 "nbformat_minor": 2
}
