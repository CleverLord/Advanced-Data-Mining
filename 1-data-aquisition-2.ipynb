{
 "cells": [
  {
   "cell_type": "code",
   "execution_count": null,
   "metadata": {},
   "outputs": [],
   "source": [
    "!pipenv install selenium pandas numpy matplotlib tqdm"
   ]
  },
  {
   "cell_type": "code",
   "execution_count": 2,
   "metadata": {},
   "outputs": [],
   "source": [
    "URL=\"https://apd.usos.agh.edu.pl/topics/browse/\""
   ]
  },
  {
   "cell_type": "code",
   "execution_count": 3,
   "metadata": {},
   "outputs": [],
   "source": [
    "#create new Edge webdriver\n",
    "from selenium import webdriver\n",
    "from selenium.webdriver.common.keys import Keys\n",
    "from selenium.webdriver.common.by import By\n",
    "from selenium.webdriver.common.action_chains import ActionChains\n",
    "from selenium.webdriver.common.desired_capabilities import DesiredCapabilities\n",
    "from selenium.webdriver.common.proxy import Proxy, ProxyType\n",
    "from selenium.webdriver.edge.options import Options\n",
    "from selenium.webdriver.support.ui import WebDriverWait\n",
    "from selenium.webdriver.support import expected_conditions as EC\n",
    "\n",
    "import pandas as pd\n",
    "import numpy as np\n",
    "import matplotlib.pyplot as plt\n",
    "from tqdm import tqdm\n",
    "import time\n",
    "import os"
   ]
  },
  {
   "cell_type": "code",
   "execution_count": 4,
   "metadata": {},
   "outputs": [],
   "source": [
    "driver = webdriver.Edge()\n",
    "driver.get(URL)"
   ]
  },
  {
   "cell_type": "code",
   "execution_count": 5,
   "metadata": {},
   "outputs": [],
   "source": [
    "# function to wait for login or exit if failed\n",
    "# wait for login = presence of element containing phrase or \"logout\" or \"wyloguj się\"\n",
    "#\"<a href=\"/auth/cas/logout/\"><span>wyloguj się</span></a>\"\n",
    "def login_wait(driver):\n",
    "    retries=5\n",
    "    print(\"Waiting for login...\")\n",
    "    while retries>0:\n",
    "        try:\n",
    "            WebDriverWait(driver, 5).until(EC.presence_of_element_located((By.XPATH, '//*[contains(text(), \"logout\")]')))\n",
    "            print(\"Logged in\")\n",
    "            break\n",
    "        except:\n",
    "            try:\n",
    "                WebDriverWait(driver, 1).until(EC.presence_of_element_located((By.XPATH, '//*[contains(text(), \"wyloguj się\")]')))\n",
    "                print(\"Logged in\")\n",
    "                break\n",
    "            except:\n",
    "                retries-=1\n",
    "                print(\"Retrying...\")\n",
    "\n",
    "    if retries==0:\n",
    "        print(\"Failed to log in\")\n",
    "        driver.quit()"
   ]
  },
  {
   "cell_type": "code",
   "execution_count": 6,
   "metadata": {},
   "outputs": [],
   "source": [
    "# function to change language\n",
    "'''\n",
    "<a id=\"langSwitch\" href=\"/pl/topics/browse/\" title=\"Wersja polska\" lang=\"pl\">\n",
    "  <span class=\"sr-only\">Wersja polska</span>\n",
    "  <img src=\"/static/usos/css/img/layout/lang-pl.svg\" alt=\"Wersja polska\">\n",
    "</a>\n",
    "'''\n",
    "def change_language():\n",
    "    try:\n",
    "        lang = driver.find_element(By.XPATH, '//*[@id=\"langSwitch\"]')\n",
    "        lang.click()\n",
    "    except:\n",
    "        print(\"Failed to change language\")\n",
    "def change_language_to_pl():\n",
    "    lang = driver.find_element(By.XPATH, '//*[@id=\"langSwitch\"]')\n",
    "    #get title attribute\n",
    "    title = lang.get_attribute(\"title\")\n",
    "    if title!=\"Wersja polska\":\n",
    "        print(\"Already in Polish\")\n",
    "    else:\n",
    "        lang.click()"
   ]
  },
  {
   "cell_type": "code",
   "execution_count": null,
   "metadata": {},
   "outputs": [],
   "source": [
    "#load tematy_df.pickle\n",
    "tematy_df = pd.read_pickle(\"tematy_df.pickle\")\n",
    "tematy_df.sample(2)"
   ]
  },
  {
   "cell_type": "code",
   "execution_count": 11,
   "metadata": {},
   "outputs": [],
   "source": [
    "change_language_to_pl()"
   ]
  },
  {
   "cell_type": "code",
   "execution_count": 51,
   "metadata": {},
   "outputs": [],
   "source": [
    "driver.get(tematy_df.sample(1).iloc[0][\"url\"])"
   ]
  },
  {
   "cell_type": "code",
   "execution_count": 8,
   "metadata": {},
   "outputs": [],
   "source": [
    "#function to get the main table\n",
    "# the main table has class \"frame\"\n",
    "def get_main_table():\n",
    "    return driver.find_element(By.CLASS_NAME, \"frame\")"
   ]
  },
  {
   "cell_type": "code",
   "execution_count": 46,
   "metadata": {},
   "outputs": [],
   "source": [
    "# function that will find Temat pracy w języku oryginału\n",
    "def get_topic(table):\n",
    "    #get first object with class=\"td width-100\" use by xpath\n",
    "    # print(table.find_elements(By.XPATH, '//*[@class=\"td width-100\"]'))\n",
    "    return table.find_elements(By.XPATH, '//*[@class=\"td width-100\"]')[0].text.strip()\n"
   ]
  },
  {
   "cell_type": "code",
   "execution_count": 47,
   "metadata": {},
   "outputs": [],
   "source": [
    "# function that will find description from table\n",
    "def get_description(table):\n",
    "    # #first in the table find object with title=\"Opis w języku [PL]\"\n",
    "    # x=table.find_element(By.XPATH, '//*[@title=\"Opis w języku [PL]\"]')\n",
    "    # #go 2 levels up, then get all divs and select the second one\n",
    "    # x2=x.find_element(By.XPATH, '..').find_element(By.XPATH,'..').find_elements(By.TAG_NAME, \"div\")[1]\n",
    "    # return x2.text\n",
    "    # get second object with class=\"td width-100\"\n",
    "    return table.find_elements(By.XPATH, '//*[@class=\"td width-100\"]')[1].text.strip()\n",
    "    "
   ]
  },
  {
   "cell_type": "code",
   "execution_count": null,
   "metadata": {},
   "outputs": [],
   "source": [
    "get_main_table().get_attribute(\"innerHTML\")"
   ]
  },
  {
   "cell_type": "code",
   "execution_count": null,
   "metadata": {},
   "outputs": [],
   "source": [
    "get_topic(get_main_table())"
   ]
  },
  {
   "cell_type": "code",
   "execution_count": null,
   "metadata": {},
   "outputs": [],
   "source": [
    "get_description(get_main_table())"
   ]
  },
  {
   "cell_type": "code",
   "execution_count": null,
   "metadata": {},
   "outputs": [],
   "source": [
    "login_wait(driver)"
   ]
  },
  {
   "cell_type": "code",
   "execution_count": 13,
   "metadata": {},
   "outputs": [],
   "source": [
    "change_language_to_pl()"
   ]
  },
  {
   "cell_type": "markdown",
   "metadata": {},
   "source": [
    "## Do actual scrapping"
   ]
  },
  {
   "cell_type": "code",
   "execution_count": 21,
   "metadata": {},
   "outputs": [],
   "source": [
    "import time\n",
    "starttime = time.time()\n",
    "\n",
    "rows = []\n",
    "total_rows=tematy_df.shape[0]\n",
    "urls=tematy_df[\"url\"]\n",
    "for url in tqdm(urls):\n",
    "    driver.get(url)\n",
    "    table = get_main_table()\n",
    "    topic = get_topic(table)\n",
    "    description = get_description(table)\n",
    "    rows.append([topic, description])\n",
    "\n",
    "print('That took {} seconds'.format(time.time() - starttime))"
   ]
  },
  {
   "cell_type": "code",
   "execution_count": 24,
   "metadata": {},
   "outputs": [],
   "source": [
    "#convert that to pandas dataframe\n",
    "import pandas as pd\n",
    "#add url as second column\n",
    "columns = [\"topic\", \"description\"]\n",
    "df = pd.DataFrame(rows, columns=columns)"
   ]
  },
  {
   "cell_type": "code",
   "execution_count": 26,
   "metadata": {},
   "outputs": [],
   "source": [
    "df.sample(2)"
   ]
  },
  {
   "cell_type": "code",
   "execution_count": 29,
   "metadata": {},
   "outputs": [],
   "source": [
    "import pickle\n",
    "#pickle the dataframe\n",
    "with open(\"descriptions_df.pickle\", \"wb\") as f:\n",
    "    pickle.dump(df, f)"
   ]
  }
 ],
 "metadata": {
  "kernelspec": {
   "display_name": "Python 3 (ipykernel)",
   "language": "python",
   "name": "python3"
  },
  "language_info": {
   "codemirror_mode": {
    "name": "ipython",
    "version": 3
   },
   "file_extension": ".py",
   "mimetype": "text/x-python",
   "name": "python",
   "nbconvert_exporter": "python",
   "pygments_lexer": "ipython3",
   "version": "3.12.6"
  }
 },
 "nbformat": 4,
 "nbformat_minor": 2
}
