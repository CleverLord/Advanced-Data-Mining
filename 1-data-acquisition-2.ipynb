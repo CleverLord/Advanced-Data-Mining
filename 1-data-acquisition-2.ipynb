{
 "cells": [
  {
   "cell_type": "code",
   "execution_count": 1,
   "metadata": {},
   "outputs": [
    {
     "name": "stdout",
     "output_type": "stream",
     "text": [
      "Installing selenium...\n",
      "Resolving selenium...\n",
      "[    ] Installing...\n",
      "Installation Succeeded\n",
      "[    ] Installing selenium...\n",
      "[    ] Installing selenium...\n",
      "\n",
      "Installing pandas...\n",
      "Resolving pandas...\n",
      "[    ] Installing...\n",
      "Installation Succeeded\n",
      "[    ] Installing pandas...\n",
      "[    ] Installing pandas...\n",
      "\n",
      "Installing numpy...\n",
      "Resolving numpy...\n",
      "[    ] Installing...\n",
      "Installation Succeeded\n",
      "[    ] Installing numpy...\n",
      "[    ] Installing numpy...\n",
      "\n",
      "Installing matplotlib...\n",
      "Resolving matplotlib...\n",
      "[    ] Installing...\n",
      "Installation Succeeded\n",
      "[    ] Installing matplotlib...\n",
      "[    ] Installing matplotlib...\n",
      "\n",
      "Installing tqdm...\n",
      "Resolving tqdm...\n",
      "[    ] Installing...\n",
      "Installation Succeeded\n",
      "[    ] Installing tqdm...\n",
      "[    ] Installing tqdm...\n",
      "\n",
      "Installing dependencies from Pipfile.lock (395a0f)...\n"
     ]
    }
   ],
   "source": [
    "!pipenv install selenium pandas numpy matplotlib tqdm"
   ]
  },
  {
   "cell_type": "code",
   "execution_count": 2,
   "metadata": {},
   "outputs": [],
   "source": [
    "URL=\"https://apd.usos.agh.edu.pl/topics/browse/\""
   ]
  },
  {
   "cell_type": "code",
   "execution_count": 3,
   "metadata": {},
   "outputs": [],
   "source": [
    "#create new Edge webdriver\n",
    "from selenium import webdriver\n",
    "from selenium.webdriver.common.keys import Keys\n",
    "from selenium.webdriver.common.by import By\n",
    "from selenium.webdriver.common.action_chains import ActionChains\n",
    "from selenium.webdriver.common.desired_capabilities import DesiredCapabilities\n",
    "from selenium.webdriver.common.proxy import Proxy, ProxyType\n",
    "from selenium.webdriver.edge.options import Options\n",
    "from selenium.webdriver.support.ui import WebDriverWait\n",
    "from selenium.webdriver.support import expected_conditions as EC\n",
    "\n",
    "import pandas as pd\n",
    "import numpy as np\n",
    "import matplotlib.pyplot as plt\n",
    "from tqdm import tqdm\n",
    "import time\n",
    "import os"
   ]
  },
  {
   "cell_type": "code",
   "execution_count": 4,
   "metadata": {},
   "outputs": [],
   "source": [
    "driver = webdriver.Edge()\n",
    "driver.get(URL)"
   ]
  },
  {
   "cell_type": "code",
   "execution_count": 5,
   "metadata": {},
   "outputs": [],
   "source": [
    "# function to wait for login or exit if failed\n",
    "# wait for login = presence of element containing phrase or \"logout\" or \"wyloguj się\"\n",
    "#\"<a href=\"/auth/cas/logout/\"><span>wyloguj się</span></a>\"\n",
    "def login_wait(driver):\n",
    "    retries=5\n",
    "    print(\"Waiting for login...\")\n",
    "    while retries>0:\n",
    "        try:\n",
    "            WebDriverWait(driver, 5).until(EC.presence_of_element_located((By.XPATH, '//*[contains(text(), \"logout\")]')))\n",
    "            print(\"Logged in\")\n",
    "            break\n",
    "        except:\n",
    "            try:\n",
    "                WebDriverWait(driver, 1).until(EC.presence_of_element_located((By.XPATH, '//*[contains(text(), \"wyloguj się\")]')))\n",
    "                print(\"Logged in\")\n",
    "                break\n",
    "            except:\n",
    "                retries-=1\n",
    "                print(\"Retrying...\")\n",
    "\n",
    "    if retries==0:\n",
    "        print(\"Failed to log in\")\n",
    "        driver.quit()\n",
    "\n",
    "def fast_wait_pl(driver):\n",
    "    #this is faster since the condition is checked every moment. We know we are waiting for polish word \"wyloguj się\", since this should be called after changing language to polish\n",
    "    WebDriverWait(driver, 30).until(EC.presence_of_element_located((By.XPATH, '//*[contains(text(), \"wyloguj się\")]')))"
   ]
  },
  {
   "cell_type": "code",
   "execution_count": 6,
   "metadata": {},
   "outputs": [],
   "source": [
    "# function to change language\n",
    "'''\n",
    "<a id=\"langSwitch\" href=\"/pl/topics/browse/\" title=\"Wersja polska\" lang=\"pl\">\n",
    "  <span class=\"sr-only\">Wersja polska</span>\n",
    "  <img src=\"/static/usos/css/img/layout/lang-pl.svg\" alt=\"Wersja polska\">\n",
    "</a>\n",
    "'''\n",
    "def change_language():\n",
    "    try:\n",
    "        lang = driver.find_element(By.XPATH, '//*[@id=\"langSwitch\"]')\n",
    "        lang.click()\n",
    "    except:\n",
    "        print(\"Failed to change language\")\n",
    "def change_language_to_pl():\n",
    "    lang = driver.find_element(By.XPATH, '//*[@id=\"langSwitch\"]')\n",
    "    #get title attribute\n",
    "    title = lang.get_attribute(\"title\")\n",
    "    if title!=\"Wersja polska\":\n",
    "        print(\"Already in Polish\")\n",
    "    else:\n",
    "        lang.click()"
   ]
  },
  {
   "cell_type": "code",
   "execution_count": 7,
   "metadata": {},
   "outputs": [
    {
     "data": {
      "text/html": [
       "<div>\n",
       "<style scoped>\n",
       "    .dataframe tbody tr th:only-of-type {\n",
       "        vertical-align: middle;\n",
       "    }\n",
       "\n",
       "    .dataframe tbody tr th {\n",
       "        vertical-align: top;\n",
       "    }\n",
       "\n",
       "    .dataframe thead th {\n",
       "        text-align: right;\n",
       "    }\n",
       "</style>\n",
       "<table border=\"1\" class=\"dataframe\">\n",
       "  <thead>\n",
       "    <tr style=\"text-align: right;\">\n",
       "      <th></th>\n",
       "      <th>Tytuł pracy w języku oryginału</th>\n",
       "      <th>url</th>\n",
       "      <th>Jednostka organizacyjna</th>\n",
       "      <th>Osoba zgłaszająca temat</th>\n",
       "      <th>Kierunki studiów</th>\n",
       "      <th>Typ pracy</th>\n",
       "      <th>Status tematu</th>\n",
       "      <th>Data aktualizacji</th>\n",
       "    </tr>\n",
       "  </thead>\n",
       "  <tbody>\n",
       "    <tr>\n",
       "      <th>44</th>\n",
       "      <td>Dłoń jako interfejs dla wirtualnej rzeczywistości</td>\n",
       "      <td>https://apd.usos.agh.edu.pl/topics/show/4585/</td>\n",
       "      <td>[120-000] Wydział Elektrotechniki, Automatyki,...</td>\n",
       "      <td>Igor Wojnicki</td>\n",
       "      <td>Computer Science,\\ninformatyka,\\nInformatyka</td>\n",
       "      <td>inżynierska,\\nmagisterska</td>\n",
       "      <td>Zarezerwowany</td>\n",
       "      <td>3 października 2024</td>\n",
       "    </tr>\n",
       "    <tr>\n",
       "      <th>2578</th>\n",
       "      <td>Projekt i implementacja systemu rezerwacji pok...</td>\n",
       "      <td>https://apd.usos.agh.edu.pl/topics/show/9424/</td>\n",
       "      <td>[120-000] Wydział Elektrotechniki, Automatyki,...</td>\n",
       "      <td>Paweł Skrzyński</td>\n",
       "      <td>Informatyka,\\nInformatyka</td>\n",
       "      <td>inżynierska</td>\n",
       "      <td>Dostępny</td>\n",
       "      <td>16 maja 2023</td>\n",
       "    </tr>\n",
       "  </tbody>\n",
       "</table>\n",
       "</div>"
      ],
      "text/plain": [
       "                         Tytuł pracy w języku oryginału  \\\n",
       "44    Dłoń jako interfejs dla wirtualnej rzeczywistości   \n",
       "2578  Projekt i implementacja systemu rezerwacji pok...   \n",
       "\n",
       "                                                url  \\\n",
       "44    https://apd.usos.agh.edu.pl/topics/show/4585/   \n",
       "2578  https://apd.usos.agh.edu.pl/topics/show/9424/   \n",
       "\n",
       "                                Jednostka organizacyjna  \\\n",
       "44    [120-000] Wydział Elektrotechniki, Automatyki,...   \n",
       "2578  [120-000] Wydział Elektrotechniki, Automatyki,...   \n",
       "\n",
       "     Osoba zgłaszająca temat                              Kierunki studiów  \\\n",
       "44             Igor Wojnicki  Computer Science,\\ninformatyka,\\nInformatyka   \n",
       "2578         Paweł Skrzyński                     Informatyka,\\nInformatyka   \n",
       "\n",
       "                      Typ pracy  Status tematu    Data aktualizacji  \n",
       "44    inżynierska,\\nmagisterska  Zarezerwowany  3 października 2024  \n",
       "2578                inżynierska       Dostępny         16 maja 2023  "
      ]
     },
     "execution_count": 7,
     "metadata": {},
     "output_type": "execute_result"
    }
   ],
   "source": [
    "#load tematy_df.pickle\n",
    "tematy_df = pd.read_pickle(\"tematy_df.pickle\")\n",
    "tematy_df.sample(2)"
   ]
  },
  {
   "cell_type": "code",
   "execution_count": 8,
   "metadata": {},
   "outputs": [],
   "source": [
    "change_language_to_pl()"
   ]
  },
  {
   "cell_type": "code",
   "execution_count": 9,
   "metadata": {},
   "outputs": [],
   "source": [
    "driver.get(tematy_df.sample(1).iloc[0][\"url\"])\n",
    "fast_wait_pl(driver)"
   ]
  },
  {
   "cell_type": "code",
   "execution_count": 10,
   "metadata": {},
   "outputs": [],
   "source": [
    "#function to get the main table\n",
    "# the main table has class \"frame\"\n",
    "def get_main_table():\n",
    "    return driver.find_element(By.CLASS_NAME, \"frame\")"
   ]
  },
  {
   "cell_type": "code",
   "execution_count": 11,
   "metadata": {},
   "outputs": [],
   "source": [
    "# function that will find Temat pracy w języku oryginału\n",
    "def get_topic(table):\n",
    "    #get first object with class=\"td width-100\" use by xpath\n",
    "    # print(table.find_elements(By.XPATH, '//*[@class=\"td width-100\"]'))\n",
    "    return table.find_elements(By.XPATH, '//*[@class=\"td width-100\"]')[0].text.strip()\n"
   ]
  },
  {
   "cell_type": "code",
   "execution_count": 12,
   "metadata": {},
   "outputs": [],
   "source": [
    "# function that will find description from table\n",
    "def get_description(table):\n",
    "    # #first in the table find object with title=\"Opis w języku [PL]\"\n",
    "    # x=table.find_element(By.XPATH, '//*[@title=\"Opis w języku [PL]\"]')\n",
    "    # #go 2 levels up, then get all divs and select the second one\n",
    "    # x2=x.find_element(By.XPATH, '..').find_element(By.XPATH,'..').find_elements(By.TAG_NAME, \"div\")[1]\n",
    "    # return x2.text\n",
    "    # get second object with class=\"td width-100\"\n",
    "    return table.find_elements(By.XPATH, '//*[@class=\"td width-100\"]')[1].text.strip()\n",
    "    "
   ]
  },
  {
   "cell_type": "code",
   "execution_count": 13,
   "metadata": {},
   "outputs": [
    {
     "data": {
      "text/plain": [
       "'\\n        <div>Informacje o temacie pracy dyplomowej</div>\\n        <div>\\n            <table class=\"tab tab-no-outer-border info highlight tab-desc width-100\">\\n                <tbody>\\n                    <tr>\\n                        <td>\\n                            Preferowany język pracy:\\n                        </td>\\n                        <td>\\n                            Polski [PL]\\n                        </td>\\n                    </tr>\\n                    <tr>\\n                        <td>\\n                            Temat pracy w języku oryginału:\\n                        </td>\\n                        <td>\\n                            <div class=\"tab width-100\">\\n                                <div class=\"tr\">\\n                                    \\n                                    <div name=\"language_flag\" class=\"td width-0 align-right padding-0\">\\n    \\n        <img src=\"/static/usos/img/languages/pl.png\" style=\"margin:5px 0 0 0;width:1.4375rem;height:0.8125rem;border:1px solid black;\" title=\"Tytuł w języku [PL]\" alt=\"\">\\n    \\n</div>\\n\\n                                    <div class=\"td width-100\" lang=\"pl\">\\n                                        Zastosowanie procesu spiekania do łączenia materiałów\\n                                    </div>\\n                                </div>\\n                            </div>\\n                        </td>\\n                    </tr>\\n                    <tr>\\n                        <td>\\n                            Opis tematu:\\n                        </td>\\n                        <td>\\n                            <div class=\"tab width-100\">\\n                                <div class=\"tr\">\\n                                    \\n                                    <div name=\"language_flag\" class=\"td width-0 align-right padding-0\">\\n    \\n        <img src=\"/static/usos/img/languages/pl.png\" style=\"margin:5px 0 0 0;width:1.4375rem;height:0.8125rem;border:1px solid black;\" title=\"Opis w języku [PL]\" alt=\"\">\\n    \\n</div>\\n\\n                                    <div class=\"td width-100\" lang=\"pl\">\\n                                        <p>Praca będzie obejmowała badanie możliwości zastosowania procesu spiekania do łączenia materiałów. Porównane zostaną dwie metody: bez i z użyciem dodatkowych czynników. Po procesie łączenia zostanie określona mikrostruktura złącza oraz jego podstawowe własności.</p>\\n                                    </div>\\n                                </div>\\n                            </div>\\n                        </td>\\n                    </tr>\\n                    <tr>\\n                        <td>\\n                            Typ pracy:\\n                        </td>\\n                        <td>\\n                            \\n                                \\n                                    \\n                                        magisterska\\n                                    \\n                                \\n                            \\n                        </td>\\n                    </tr>\\n                    <tr>\\n                        <td>\\n                            Kierunki studiów:\\n                        </td>\\n                        <td>\\n                            \\n                                \\n                                    Zaawansowane Materiały Inżynierskie\\n                                \\n                            \\n                        </td>\\n                    </tr>\\n                    <tr>\\n                        <td>\\n                            Informacje organizacyjne:\\n                        </td>\\n                        <td>\\n                            <p>proszę o wyznaczenie na recenzenta dr inż. Zbigniewa Żurka </p>\\n                        </td>\\n                    </tr>\\n                    <tr>\\n                        <td>\\n                            <div style=\"float: right\">\\n                                <img src=\"/static/usos/img/tooltip/info.svg\" class=\"usos-tooltip valign-middle\" title=\"Pracownik, który wpisał temat do APD, w imieniu własnym lub osoby, która nie ma takich uprawnień. Może być, ale nie musi przyszłym opiekunem pracy dyplomowej. Sprawdź zawartość pola &quot;Przewidywany opiekun pracy&quot;.\" aria-labelledby=\"sro-2\" alt=\"Podpowiedź\" tabindex=\"0\"><span id=\"sro-2\" class=\"screen-reader-only\">Pracownik, który wpisał temat do APD, w imieniu własnym lub osoby, która nie ma takich uprawnień. Może być, ale nie musi przyszłym opiekunem pracy dyplomowej. Sprawdź zawartość pola \"Przewidywany opiekun pracy\".</span>\\n\\n                            </div>\\n                            Osoba zgłaszająca temat:\\n                        </td>\\n                        <td>\\n                            <div class=\"width-100\">\\n                                \\n                                    <div class=\"float-right note\">\\n                                        <a class=\"usos-link mail\" style=\"text-decoration:none;\" href=\"javascript: void(0);\" onclick=\"mailPopupForm.open(this, \\'101591\\');\" aria-label=\"Wiadomość do zgłaszającego temat\">&nbsp;</a>\\n                                    </div>\\n                                \\n                                <a href=\"/users/101591/\" user_id=\"101591\">\\n                                    dr hab. inż. Marcin Madej\\n                                </a>\\n                            </div>\\n                        </td>\\n                    </tr>\\n                    <tr>\\n                        <td>\\n                            <div style=\"float: right\">\\n                                <img src=\"/static/usos/img/tooltip/info.svg\" class=\"usos-tooltip valign-middle\" title=\"To pole zawiera informację o przewidywanym opiekunie pracy. Najczęściej jest to osoba zgłaszająca temat, ale w pewnych szczególnych okolicznościach może to być inny pracownik lub praca może być prowadzona przez więcej niż jedną osobę (być może także spoza uczelni).\" aria-labelledby=\"sro-3\" alt=\"Podpowiedź\" tabindex=\"0\"><span id=\"sro-3\" class=\"screen-reader-only\">To pole zawiera informację o przewidywanym opiekunie pracy. Najczęściej jest to osoba zgłaszająca temat, ale w pewnych szczególnych okolicznościach może to być inny pracownik lub praca może być prowadzona przez więcej niż jedną osobę (być może także spoza uczelni).</span>\\n\\n                            </div>\\n                            Przewidywany opiekun pracy:\\n                        </td>\\n                        <td>\\n                            <div class=\"width-100\">\\n                                dr hab. inż. Marcin Madej\\n                            </div>\\n                        </td>\\n                    </tr>\\n                    <tr>\\n                        <td>\\n                            <div style=\"float: right\">\\n                                <img src=\"/static/usos/img/tooltip/info.svg\" class=\"usos-tooltip valign-middle\" title=\"Jednostka organizacyjna, w której będzie prowadzona praca.<br/><br/>                                     Jeśli ta jednostka będzie inna niż jednostka afiliacji koordynatora i nie zostanie uwzględniona w zestawie jednostek, w których temat jest widoczny w katalogu, to koordynator będzie miał dostęp do tematu tylko na podstronie Moje tematy.<br/><br/> Studenci z jednostek wskazanych przez zasięg widoczności tematu będą mieli możliwość obejrzenia go w katalogu.\" aria-labelledby=\"sro-4\" alt=\"Podpowiedź\" tabindex=\"0\"><span id=\"sro-4\" class=\"screen-reader-only\">Jednostka organizacyjna, w której będzie prowadzona praca.<br><br>                                     Jeśli ta jednostka będzie inna niż jednostka afiliacji koordynatora i nie zostanie uwzględniona w zestawie jednostek, w których temat jest widoczny w katalogu, to koordynator będzie miał dostęp do tematu tylko na podstronie Moje tematy.<br><br> Studenci z jednostek wskazanych przez zasięg widoczności tematu będą mieli możliwość obejrzenia go w katalogu.</span>\\n\\n                            </div>\\n                            Jednostka organizacyjna:\\n                        </td>\\n                        <td>\\n                            <div class=\"width-100\">\\n                                \\n                                    <a target=\"_blank\" href=\"https://web.usos.agh.edu.pl/kontroler.php?_action=actionx:katalog2/jednostki/pokazJednostke(kod:110-000)\" fac_id=\"110-000\">Wydział Inżynierii Metali i Informatyki Przemysłowej</a>\\n                                \\n                            </div>\\n                        </td>\\n                    </tr>\\n                    <tr>\\n                        <td>\\n                            Maksymalna liczba autorów pracy:\\n                        </td>\\n                        <td>\\n                            1\\n                        </td>\\n                    </tr>\\n                    <tr>\\n                        <td>\\n                            <div style=\"float: right\">\\n                                <img src=\"/static/usos/img/tooltip/info.svg\" class=\"usos-tooltip valign-middle\" title=\"To pole informuje o aktualnym statusie ogłoszonego tematu. Możliwe statusy:                                     <ul class=&quot;no-bullets&quot;>                                                                                      <li><span class=&quot;bold&quot;>Dostępny</span></li>                                                                                      <li><span class=&quot;bold&quot;>Dostępny częściowo</span></li>                                                                                      <li><span class=&quot;bold&quot;>W trakcie negocjacji</span></li>                                                                                      <li><span class=&quot;bold&quot;>Zarezerwowany</span></li>                                                                              </ul>\" aria-labelledby=\"sro-5\" alt=\"Podpowiedź\" tabindex=\"0\"><span id=\"sro-5\" class=\"screen-reader-only\">To pole informuje o aktualnym statusie ogłoszonego tematu. Możliwe statusy:                                     <ul class=\"no-bullets\">                                                                                      <li><span class=\"bold\">Dostępny</span></li>                                                                                      <li><span class=\"bold\">Dostępny częściowo</span></li>                                                                                      <li><span class=\"bold\">W trakcie negocjacji</span></li>                                                                                      <li><span class=\"bold\">Zarezerwowany</span></li>                                                                              </ul></span>\\n\\n                            </div>\\n                            Status tematu:\\n                        </td>\\n                        <td>\\n                            zarezerwowany\\n                        </td>\\n                    </tr>\\n                    \\n                    \\n                    \\n                    \\n\\n                </tbody>\\n            </table>\\n        </div>\\n    '"
      ]
     },
     "execution_count": 13,
     "metadata": {},
     "output_type": "execute_result"
    }
   ],
   "source": [
    "get_main_table().get_attribute(\"innerHTML\")"
   ]
  },
  {
   "cell_type": "code",
   "execution_count": 14,
   "metadata": {},
   "outputs": [
    {
     "data": {
      "text/plain": [
       "'Zastosowanie procesu spiekania do łączenia materiałów'"
      ]
     },
     "execution_count": 14,
     "metadata": {},
     "output_type": "execute_result"
    }
   ],
   "source": [
    "get_topic(get_main_table())"
   ]
  },
  {
   "cell_type": "code",
   "execution_count": 15,
   "metadata": {},
   "outputs": [
    {
     "data": {
      "text/plain": [
       "'Praca będzie obejmowała badanie możliwości zastosowania procesu spiekania do łączenia materiałów. Porównane zostaną dwie metody: bez i z użyciem dodatkowych czynników. Po procesie łączenia zostanie określona mikrostruktura złącza oraz jego podstawowe własności.'"
      ]
     },
     "execution_count": 15,
     "metadata": {},
     "output_type": "execute_result"
    }
   ],
   "source": [
    "get_description(get_main_table())"
   ]
  },
  {
   "cell_type": "code",
   "execution_count": 16,
   "metadata": {},
   "outputs": [
    {
     "name": "stdout",
     "output_type": "stream",
     "text": [
      "Waiting for login...\n",
      "Logged in\n"
     ]
    }
   ],
   "source": [
    "login_wait(driver)"
   ]
  },
  {
   "cell_type": "code",
   "execution_count": 17,
   "metadata": {},
   "outputs": [
    {
     "name": "stdout",
     "output_type": "stream",
     "text": [
      "Already in Polish\n"
     ]
    }
   ],
   "source": [
    "change_language_to_pl()"
   ]
  },
  {
   "cell_type": "markdown",
   "metadata": {},
   "source": [
    "## Do actual scrapping"
   ]
  },
  {
   "cell_type": "code",
   "execution_count": 18,
   "metadata": {},
   "outputs": [],
   "source": [
    "#moved here since we might want to resume the process\n",
    "rows = []"
   ]
  },
  {
   "cell_type": "code",
   "execution_count": 19,
   "metadata": {},
   "outputs": [
    {
     "name": "stdout",
     "output_type": "stream",
     "text": [
      "Url's filtered in 0.0039408206939697266 seconds\n"
     ]
    },
    {
     "name": "stderr",
     "output_type": "stream",
     "text": [
      "100%|███████████████████████████████████████████████████████████████████████████████████████████████████████████████████████████████████████████████████████████████████████████████| 5311/5311 [35:03<00:00,  2.53it/s]"
     ]
    },
    {
     "name": "stdout",
     "output_type": "stream",
     "text": [
      "That took 2103.2968134880066 seconds\n"
     ]
    },
    {
     "name": "stderr",
     "output_type": "stream",
     "text": [
      "\n"
     ]
    }
   ],
   "source": [
    "import time\n",
    "starttime = time.time()\n",
    "\n",
    "urls=tematy_df[\"url\"]\n",
    "#remove urls that are already in the rows\n",
    "urls=urls[~urls.isin([x[2] for x in rows])]\n",
    "print (\"Url's filtered in {} seconds\".format(time.time() - starttime))\n",
    "\n",
    "for url in tqdm(urls):\n",
    "    driver.get(url)\n",
    "    fast_wait_pl(driver)\n",
    "    table = get_main_table()\n",
    "    topic = get_topic(table)\n",
    "    description = get_description(table)\n",
    "    rows.append([topic, description, url])\n",
    "\n",
    "print('That took {} seconds'.format(time.time() - starttime))"
   ]
  },
  {
   "cell_type": "code",
   "execution_count": 22,
   "metadata": {},
   "outputs": [],
   "source": [
    "#convert that to pandas dataframe\n",
    "import pandas as pd\n",
    "#add url as second column\n",
    "columns = [\"topic\", \"description\", \"url\"]\n",
    "df = pd.DataFrame(rows, columns=columns)"
   ]
  },
  {
   "cell_type": "code",
   "execution_count": 23,
   "metadata": {},
   "outputs": [
    {
     "data": {
      "text/html": [
       "<div>\n",
       "<style scoped>\n",
       "    .dataframe tbody tr th:only-of-type {\n",
       "        vertical-align: middle;\n",
       "    }\n",
       "\n",
       "    .dataframe tbody tr th {\n",
       "        vertical-align: top;\n",
       "    }\n",
       "\n",
       "    .dataframe thead th {\n",
       "        text-align: right;\n",
       "    }\n",
       "</style>\n",
       "<table border=\"1\" class=\"dataframe\">\n",
       "  <thead>\n",
       "    <tr style=\"text-align: right;\">\n",
       "      <th></th>\n",
       "      <th>topic</th>\n",
       "      <th>description</th>\n",
       "      <th>url</th>\n",
       "    </tr>\n",
       "  </thead>\n",
       "  <tbody>\n",
       "    <tr>\n",
       "      <th>999</th>\n",
       "      <td>Analiza pracy sieci dystrybucyjnej z instalacj...</td>\n",
       "      <td>Praca o charakterze analitycznym. W ramach pra...</td>\n",
       "      <td>https://apd.usos.agh.edu.pl/topics/show/13579/</td>\n",
       "    </tr>\n",
       "    <tr>\n",
       "      <th>516</th>\n",
       "      <td>System pomiarowy i akwizycji danych do analizy...</td>\n",
       "      <td>Praca obejmuje projekt i budowę systemu pomiar...</td>\n",
       "      <td>https://apd.usos.agh.edu.pl/topics/show/5506/</td>\n",
       "    </tr>\n",
       "  </tbody>\n",
       "</table>\n",
       "</div>"
      ],
      "text/plain": [
       "                                                 topic  \\\n",
       "999  Analiza pracy sieci dystrybucyjnej z instalacj...   \n",
       "516  System pomiarowy i akwizycji danych do analizy...   \n",
       "\n",
       "                                           description  \\\n",
       "999  Praca o charakterze analitycznym. W ramach pra...   \n",
       "516  Praca obejmuje projekt i budowę systemu pomiar...   \n",
       "\n",
       "                                                url  \n",
       "999  https://apd.usos.agh.edu.pl/topics/show/13579/  \n",
       "516   https://apd.usos.agh.edu.pl/topics/show/5506/  "
      ]
     },
     "execution_count": 23,
     "metadata": {},
     "output_type": "execute_result"
    }
   ],
   "source": [
    "df.sample(2)"
   ]
  },
  {
   "cell_type": "code",
   "execution_count": 24,
   "metadata": {},
   "outputs": [],
   "source": [
    "import pickle\n",
    "#pickle the dataframe\n",
    "with open(\"descriptions_df.pickle\", \"wb\") as f:\n",
    "    pickle.dump(df, f)"
   ]
  }
 ],
 "metadata": {
  "kernelspec": {
   "display_name": "Python 3 (ipykernel)",
   "language": "python",
   "name": "python3"
  }
 },
 "nbformat": 4,
 "nbformat_minor": 2
}
