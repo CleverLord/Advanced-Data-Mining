{
 "cells": [
  {
   "cell_type": "code",
   "execution_count": 1,
   "metadata": {},
   "outputs": [
    {
     "name": "stdout",
     "output_type": "stream",
     "text": [
      "Installing selenium...\n",
      "Resolving selenium...\n",
      "[    ] Installing...\n",
      "Installation Succeeded\n",
      "[    ] Installing selenium...\n",
      "[    ] Installing selenium...\n",
      "\n",
      "Installing pandas...\n",
      "Resolving pandas...\n",
      "[    ] Installing...\n",
      "Installation Succeeded\n",
      "[    ] Installing pandas...\n",
      "[    ] Installing pandas...\n",
      "\n",
      "Installing numpy...\n",
      "Resolving numpy...\n",
      "[    ] Installing...\n",
      "Installation Succeeded\n",
      "[    ] Installing numpy...\n",
      "[    ] Installing numpy...\n",
      "\n",
      "Installing matplotlib...\n",
      "Resolving matplotlib...\n",
      "[    ] Installing...\n",
      "Installation Succeeded\n",
      "[    ] Installing matplotlib...\n",
      "[    ] Installing matplotlib...\n",
      "\n",
      "Installing tqdm...\n",
      "Resolving tqdm...\n",
      "[    ] Installing...\n",
      "Installation Succeeded\n",
      "[    ] Installing tqdm...\n",
      "[    ] Installing tqdm...\n",
      "\n",
      "Installing dependencies from Pipfile.lock (4da58c)...\n"
     ]
    }
   ],
   "source": [
    "!pipenv install selenium pandas numpy matplotlib tqdm"
   ]
  },
  {
   "cell_type": "code",
   "execution_count": 2,
   "metadata": {},
   "outputs": [],
   "source": [
    "URL=\"https://apd.usos.agh.edu.pl/topics/browse/\""
   ]
  },
  {
   "cell_type": "code",
   "execution_count": 3,
   "metadata": {},
   "outputs": [],
   "source": [
    "#create new Edge webdriver\n",
    "from selenium import webdriver\n",
    "from selenium.webdriver.common.keys import Keys\n",
    "from selenium.webdriver.common.by import By\n",
    "from selenium.webdriver.common.action_chains import ActionChains\n",
    "from selenium.webdriver.common.desired_capabilities import DesiredCapabilities\n",
    "from selenium.webdriver.common.proxy import Proxy, ProxyType\n",
    "from selenium.webdriver.edge.options import Options\n",
    "from selenium.webdriver.support.ui import WebDriverWait\n",
    "from selenium.webdriver.support import expected_conditions as EC\n",
    "\n",
    "import pandas as pd\n",
    "import numpy as np\n",
    "import matplotlib.pyplot as plt\n",
    "from tqdm import tqdm\n",
    "import time\n",
    "import os"
   ]
  },
  {
   "cell_type": "code",
   "execution_count": 6,
   "metadata": {},
   "outputs": [],
   "source": [
    "#set up webdriver\n",
    "driver = webdriver.Edge()\n",
    "driver.get(URL)"
   ]
  },
  {
   "cell_type": "code",
   "execution_count": 7,
   "metadata": {},
   "outputs": [
    {
     "name": "stdout",
     "output_type": "stream",
     "text": [
      "Waiting for login...\n",
      "Retrying...\n",
      "Retrying...\n",
      "Logged in\n"
     ]
    }
   ],
   "source": [
    "#wait for presence of element containing phrase or \"logout\"\n",
    "#\"<a href=\"/auth/cas/logout/\"><span>wyloguj się</span></a>\"\n",
    "retries=5\n",
    "print(\"Waiting for login...\")\n",
    "while retries>0:\n",
    "    try:\n",
    "        WebDriverWait(driver, 6).until(EC.presence_of_element_located((By.XPATH, '//*[contains(text(), \"logout\")]')))\n",
    "        print(\"Logged in\")\n",
    "        break\n",
    "    except:\n",
    "        retries-=1\n",
    "        print(\"Retrying...\")\n",
    "\n",
    "if retries==0:\n",
    "    print(\"Failed to log in\")\n",
    "    driver.quit()"
   ]
  },
  {
   "cell_type": "code",
   "execution_count": null,
   "metadata": {},
   "outputs": [],
   "source": []
  }
 ],
 "metadata": {
  "kernelspec": {
   "display_name": "Python 3 (ipykernel)",
   "language": "python",
   "name": "python3"
  },
  "language_info": {
   "codemirror_mode": {
    "name": "ipython",
    "version": 3
   },
   "file_extension": ".py",
   "mimetype": "text/x-python",
   "name": "python",
   "nbconvert_exporter": "python",
   "pygments_lexer": "ipython3",
   "version": "3.12.6"
  }
 },
 "nbformat": 4,
 "nbformat_minor": 2
}
